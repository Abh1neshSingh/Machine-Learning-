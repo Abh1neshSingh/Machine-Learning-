{
 "cells": [
  {
   "cell_type": "markdown",
   "metadata": {
    "id": "FVt5CxxWjP-O"
   },
   "source": [
    "# Student Performance\n",
    "\n",
    "The dataset is related to student performance and attributes in secondary education. Here's a general introduction based on the columns present in the DataFrame:\n",
    "\n",
    "This dataset contains information about students in secondary education, including demographic details, family background, educational support, lifestyle choices, and academic performance. Each row represents a unique student, and the columns provide various attributes and characteristics associated with them."
   ]
  },
  {
   "cell_type": "markdown",
   "metadata": {
    "id": "-j8arEafjP7c"
   },
   "source": [
    "## Dataset contains following columns:\n",
    "\n",
    "* school: School attended by the student.\n",
    "* sex: Student's gender (male or female).\n",
    "* age: Student's age.\n",
    "* address: Type of address of the student (urban or rural).\n",
    "* famsize: Family size (binary categorization: \"LE3\" - less or equal to 3 or \"GT3\" - greater than 3).\n",
    "* Pstatus: Parent's cohabitation status (living together or apart).\n",
    "* Medu: Mother's education level (0 to 4, representing none to higher education).\n",
    "* Fedu: Father's education level (0 to 4, representing none to higher education).\n",
    "* Mjob: Mother's occupation.\n",
    "* Fjob: Father's occupation.\n",
    "* reason: Reason for choosing the school.\n",
    "* guardian: Student's guardian.\n",
    "* traveltime: Travel time to school.\n",
    "* studytime: Weekly study time (hours).\n",
    "* failures: Number of past class failures.\n",
    "* schoolsup: Extra educational support at school (yes or no).\n",
    "* famsup: Family educational support (yes or no).\n",
    "* paid: Extra paid classes within the course subject (yes or no).\n",
    "* activities: Extra-curricular activities (yes or no).\n",
    "* nursery: Attended nursery school (yes or no).\n",
    "* higher: Wants to take higher education (yes or no).\n",
    "* internet: Internet access at home (yes or no).\n",
    "* romantic: In a romantic relationship (yes or no).\n",
    "* famrel: Quality of family relationships (from 1 - very bad to 5 - excellent).\n",
    "* freetime: Free time after school (from 1 - very low to 5 - very high).\n",
    "* goout: Going out with friends (from 1 - very low to 5 - very high).\n",
    "* Dalc: Workday alcohol consumption (from 1 - very low to 5 - very high).\n",
    "* Walc: Weekend alcohol consumption (from 1 - very low to 5 - very high).\n",
    "* health: Current health status (from 1 - very bad to 5 - very good).\n",
    "* absences: Number of school absences.\n",
    "* G1: First period grade (from 0 to 20).\n",
    "* G2: Second period grade (from 0 to 20).\n",
    "* G3: Final grade (from 0 to 20).\n",
    "\n"
   ]
  },
  {
   "cell_type": "markdown",
   "metadata": {
    "id": "NIn3LWB7jOzg"
   },
   "source": []
  },
  {
   "cell_type": "code",
   "execution_count": 1,
   "metadata": {
    "executionInfo": {
     "elapsed": 701,
     "status": "ok",
     "timestamp": 1711439324156,
     "user": {
      "displayName": "Saikumarreddy N",
      "userId": "04083008778842655593"
     },
     "user_tz": -330
    },
    "id": "PvW-HVmfKF6p"
   },
   "outputs": [],
   "source": [
    "#Import all the libraries\n",
    "\n",
    "import pandas as pd\n",
    "import numpy as np\n",
    "import seaborn as sns\n",
    "import matplotlib.pyplot as plt"
   ]
  },
  {
   "cell_type": "code",
   "execution_count": 2,
   "metadata": {
    "colab": {
     "base_uri": "https://localhost:8080/"
    },
    "executionInfo": {
     "elapsed": 20370,
     "status": "ok",
     "timestamp": 1711439344872,
     "user": {
      "displayName": "Saikumarreddy N",
      "userId": "04083008778842655593"
     },
     "user_tz": -330
    },
    "id": "UvYVjlZFtOcv",
    "outputId": "4ac45d17-580b-4edc-bce1-ea890899c304"
   },
   "outputs": [],
   "source": [
    "#Reading data\n",
    "# from google.colab import drive\n",
    "# drive.mount('/content/drive')"
   ]
  },
  {
   "cell_type": "code",
   "execution_count": 3,
   "metadata": {
    "colab": {
     "base_uri": "https://localhost:8080/",
     "height": 256
    },
    "executionInfo": {
     "elapsed": 2068,
     "status": "ok",
     "timestamp": 1711439346937,
     "user": {
      "displayName": "Saikumarreddy N",
      "userId": "04083008778842655593"
     },
     "user_tz": -330
    },
    "id": "drEgMg2SGQnq",
    "outputId": "b2a7d226-19dc-402d-f469-56eed5291b00"
   },
   "outputs": [
    {
     "data": {
      "text/html": [
       "<div>\n",
       "<style scoped>\n",
       "    .dataframe tbody tr th:only-of-type {\n",
       "        vertical-align: middle;\n",
       "    }\n",
       "\n",
       "    .dataframe tbody tr th {\n",
       "        vertical-align: top;\n",
       "    }\n",
       "\n",
       "    .dataframe thead th {\n",
       "        text-align: right;\n",
       "    }\n",
       "</style>\n",
       "<table border=\"1\" class=\"dataframe\">\n",
       "  <thead>\n",
       "    <tr style=\"text-align: right;\">\n",
       "      <th></th>\n",
       "      <th>school</th>\n",
       "      <th>sex</th>\n",
       "      <th>age</th>\n",
       "      <th>address</th>\n",
       "      <th>famsize</th>\n",
       "      <th>Pstatus</th>\n",
       "      <th>Medu</th>\n",
       "      <th>Fedu</th>\n",
       "      <th>Mjob</th>\n",
       "      <th>Fjob</th>\n",
       "      <th>...</th>\n",
       "      <th>famrel</th>\n",
       "      <th>freetime</th>\n",
       "      <th>goout</th>\n",
       "      <th>Dalc</th>\n",
       "      <th>Walc</th>\n",
       "      <th>health</th>\n",
       "      <th>absences</th>\n",
       "      <th>G1</th>\n",
       "      <th>G2</th>\n",
       "      <th>G3</th>\n",
       "    </tr>\n",
       "  </thead>\n",
       "  <tbody>\n",
       "    <tr>\n",
       "      <th>0</th>\n",
       "      <td>GP</td>\n",
       "      <td>F</td>\n",
       "      <td>18</td>\n",
       "      <td>U</td>\n",
       "      <td>GT3</td>\n",
       "      <td>A</td>\n",
       "      <td>4</td>\n",
       "      <td>4</td>\n",
       "      <td>at_home</td>\n",
       "      <td>teacher</td>\n",
       "      <td>...</td>\n",
       "      <td>4</td>\n",
       "      <td>3</td>\n",
       "      <td>4</td>\n",
       "      <td>1</td>\n",
       "      <td>1</td>\n",
       "      <td>3</td>\n",
       "      <td>4</td>\n",
       "      <td>0</td>\n",
       "      <td>11</td>\n",
       "      <td>11</td>\n",
       "    </tr>\n",
       "    <tr>\n",
       "      <th>1</th>\n",
       "      <td>GP</td>\n",
       "      <td>F</td>\n",
       "      <td>17</td>\n",
       "      <td>U</td>\n",
       "      <td>GT3</td>\n",
       "      <td>T</td>\n",
       "      <td>1</td>\n",
       "      <td>1</td>\n",
       "      <td>at_home</td>\n",
       "      <td>other</td>\n",
       "      <td>...</td>\n",
       "      <td>5</td>\n",
       "      <td>3</td>\n",
       "      <td>3</td>\n",
       "      <td>1</td>\n",
       "      <td>1</td>\n",
       "      <td>3</td>\n",
       "      <td>2</td>\n",
       "      <td>9</td>\n",
       "      <td>11</td>\n",
       "      <td>11</td>\n",
       "    </tr>\n",
       "    <tr>\n",
       "      <th>2</th>\n",
       "      <td>GP</td>\n",
       "      <td>F</td>\n",
       "      <td>15</td>\n",
       "      <td>U</td>\n",
       "      <td>LE3</td>\n",
       "      <td>T</td>\n",
       "      <td>1</td>\n",
       "      <td>1</td>\n",
       "      <td>at_home</td>\n",
       "      <td>other</td>\n",
       "      <td>...</td>\n",
       "      <td>4</td>\n",
       "      <td>3</td>\n",
       "      <td>2</td>\n",
       "      <td>2</td>\n",
       "      <td>3</td>\n",
       "      <td>3</td>\n",
       "      <td>6</td>\n",
       "      <td>12</td>\n",
       "      <td>13</td>\n",
       "      <td>12</td>\n",
       "    </tr>\n",
       "    <tr>\n",
       "      <th>3</th>\n",
       "      <td>GP</td>\n",
       "      <td>F</td>\n",
       "      <td>15</td>\n",
       "      <td>U</td>\n",
       "      <td>GT3</td>\n",
       "      <td>T</td>\n",
       "      <td>4</td>\n",
       "      <td>2</td>\n",
       "      <td>health</td>\n",
       "      <td>services</td>\n",
       "      <td>...</td>\n",
       "      <td>3</td>\n",
       "      <td>2</td>\n",
       "      <td>2</td>\n",
       "      <td>1</td>\n",
       "      <td>1</td>\n",
       "      <td>5</td>\n",
       "      <td>0</td>\n",
       "      <td>14</td>\n",
       "      <td>14</td>\n",
       "      <td>14</td>\n",
       "    </tr>\n",
       "    <tr>\n",
       "      <th>4</th>\n",
       "      <td>GP</td>\n",
       "      <td>F</td>\n",
       "      <td>16</td>\n",
       "      <td>U</td>\n",
       "      <td>GT3</td>\n",
       "      <td>T</td>\n",
       "      <td>3</td>\n",
       "      <td>3</td>\n",
       "      <td>other</td>\n",
       "      <td>other</td>\n",
       "      <td>...</td>\n",
       "      <td>4</td>\n",
       "      <td>3</td>\n",
       "      <td>2</td>\n",
       "      <td>1</td>\n",
       "      <td>2</td>\n",
       "      <td>5</td>\n",
       "      <td>0</td>\n",
       "      <td>11</td>\n",
       "      <td>13</td>\n",
       "      <td>13</td>\n",
       "    </tr>\n",
       "  </tbody>\n",
       "</table>\n",
       "<p>5 rows × 33 columns</p>\n",
       "</div>"
      ],
      "text/plain": [
       "  school sex  age address famsize Pstatus  Medu  Fedu     Mjob      Fjob  ...  \\\n",
       "0     GP   F   18       U     GT3       A     4     4  at_home   teacher  ...   \n",
       "1     GP   F   17       U     GT3       T     1     1  at_home     other  ...   \n",
       "2     GP   F   15       U     LE3       T     1     1  at_home     other  ...   \n",
       "3     GP   F   15       U     GT3       T     4     2   health  services  ...   \n",
       "4     GP   F   16       U     GT3       T     3     3    other     other  ...   \n",
       "\n",
       "  famrel freetime  goout  Dalc  Walc health absences  G1  G2  G3  \n",
       "0      4        3      4     1     1      3        4   0  11  11  \n",
       "1      5        3      3     1     1      3        2   9  11  11  \n",
       "2      4        3      2     2     3      3        6  12  13  12  \n",
       "3      3        2      2     1     1      5        0  14  14  14  \n",
       "4      4        3      2     1     2      5        0  11  13  13  \n",
       "\n",
       "[5 rows x 33 columns]"
      ]
     },
     "execution_count": 3,
     "metadata": {},
     "output_type": "execute_result"
    }
   ],
   "source": [
    "df = pd.read_csv('/Users/abhineshsingh/Music/EDA DATA/student-por (1).csv')\n",
    "df.head()"
   ]
  },
  {
   "cell_type": "code",
   "execution_count": 4,
   "metadata": {
    "colab": {
     "base_uri": "https://localhost:8080/"
    },
    "executionInfo": {
     "elapsed": 12,
     "status": "ok",
     "timestamp": 1711439346937,
     "user": {
      "displayName": "Saikumarreddy N",
      "userId": "04083008778842655593"
     },
     "user_tz": -330
    },
    "id": "qQJv28q1GRep",
    "outputId": "e4276422-2203-4017-f263-bf2f557e87f6"
   },
   "outputs": [
    {
     "data": {
      "text/plain": [
       "(649, 33)"
      ]
     },
     "execution_count": 4,
     "metadata": {},
     "output_type": "execute_result"
    }
   ],
   "source": [
    "# Shape of the data\n",
    "df.shape"
   ]
  },
  {
   "cell_type": "code",
   "execution_count": 5,
   "metadata": {
    "colab": {
     "base_uri": "https://localhost:8080/"
    },
    "executionInfo": {
     "elapsed": 12,
     "status": "ok",
     "timestamp": 1711439346938,
     "user": {
      "displayName": "Saikumarreddy N",
      "userId": "04083008778842655593"
     },
     "user_tz": -330
    },
    "id": "T3kQJZreGRhU",
    "outputId": "3f85c39e-835f-4555-a6a6-3dc02040602c"
   },
   "outputs": [
    {
     "name": "stdout",
     "output_type": "stream",
     "text": [
      "<class 'pandas.core.frame.DataFrame'>\n",
      "RangeIndex: 649 entries, 0 to 648\n",
      "Data columns (total 33 columns):\n",
      " #   Column      Non-Null Count  Dtype \n",
      "---  ------      --------------  ----- \n",
      " 0   school      649 non-null    object\n",
      " 1   sex         649 non-null    object\n",
      " 2   age         649 non-null    int64 \n",
      " 3   address     649 non-null    object\n",
      " 4   famsize     649 non-null    object\n",
      " 5   Pstatus     649 non-null    object\n",
      " 6   Medu        649 non-null    int64 \n",
      " 7   Fedu        649 non-null    int64 \n",
      " 8   Mjob        649 non-null    object\n",
      " 9   Fjob        649 non-null    object\n",
      " 10  reason      649 non-null    object\n",
      " 11  guardian    649 non-null    object\n",
      " 12  traveltime  649 non-null    int64 \n",
      " 13  studytime   649 non-null    int64 \n",
      " 14  failures    649 non-null    int64 \n",
      " 15  schoolsup   649 non-null    object\n",
      " 16  famsup      649 non-null    object\n",
      " 17  paid        649 non-null    object\n",
      " 18  activities  649 non-null    object\n",
      " 19  nursery     649 non-null    object\n",
      " 20  higher      649 non-null    object\n",
      " 21  internet    649 non-null    object\n",
      " 22  romantic    649 non-null    object\n",
      " 23  famrel      649 non-null    int64 \n",
      " 24  freetime    649 non-null    int64 \n",
      " 25  goout       649 non-null    int64 \n",
      " 26  Dalc        649 non-null    int64 \n",
      " 27  Walc        649 non-null    int64 \n",
      " 28  health      649 non-null    int64 \n",
      " 29  absences    649 non-null    int64 \n",
      " 30  G1          649 non-null    int64 \n",
      " 31  G2          649 non-null    int64 \n",
      " 32  G3          649 non-null    int64 \n",
      "dtypes: int64(16), object(17)\n",
      "memory usage: 167.4+ KB\n"
     ]
    }
   ],
   "source": [
    "df.info()"
   ]
  },
  {
   "cell_type": "code",
   "execution_count": 6,
   "metadata": {
    "colab": {
     "base_uri": "https://localhost:8080/"
    },
    "executionInfo": {
     "elapsed": 10,
     "status": "ok",
     "timestamp": 1711439346938,
     "user": {
      "displayName": "Saikumarreddy N",
      "userId": "04083008778842655593"
     },
     "user_tz": -330
    },
    "id": "xXDoGWwfGRnR",
    "outputId": "2639b0ad-bd2e-4b5f-ba87-499263143c43"
   },
   "outputs": [
    {
     "data": {
      "text/plain": [
       "school        0\n",
       "sex           0\n",
       "age           0\n",
       "address       0\n",
       "famsize       0\n",
       "Pstatus       0\n",
       "Medu          0\n",
       "Fedu          0\n",
       "Mjob          0\n",
       "Fjob          0\n",
       "reason        0\n",
       "guardian      0\n",
       "traveltime    0\n",
       "studytime     0\n",
       "failures      0\n",
       "schoolsup     0\n",
       "famsup        0\n",
       "paid          0\n",
       "activities    0\n",
       "nursery       0\n",
       "higher        0\n",
       "internet      0\n",
       "romantic      0\n",
       "famrel        0\n",
       "freetime      0\n",
       "goout         0\n",
       "Dalc          0\n",
       "Walc          0\n",
       "health        0\n",
       "absences      0\n",
       "G1            0\n",
       "G2            0\n",
       "G3            0\n",
       "dtype: int64"
      ]
     },
     "execution_count": 6,
     "metadata": {},
     "output_type": "execute_result"
    }
   ],
   "source": [
    "# Check if there are any null values\n",
    "\n",
    "df.isnull().sum()"
   ]
  },
  {
   "cell_type": "markdown",
   "metadata": {
    "id": "-UPBKOoAJYxw"
   },
   "source": [
    "There are no null values in this dataset"
   ]
  },
  {
   "cell_type": "markdown",
   "metadata": {
    "id": "GMN_Wc5KrneO"
   },
   "source": [
    "## Univariant"
   ]
  },
  {
   "cell_type": "code",
   "execution_count": 7,
   "metadata": {
    "colab": {
     "base_uri": "https://localhost:8080/",
     "height": 594
    },
    "executionInfo": {
     "elapsed": 962,
     "status": "ok",
     "timestamp": 1711439347893,
     "user": {
      "displayName": "Saikumarreddy N",
      "userId": "04083008778842655593"
     },
     "user_tz": -330
    },
    "id": "lOllvwqiV4sK",
    "outputId": "b41257b0-5273-4d81-de3e-e62de1df59a1"
   },
   "outputs": [
    {
     "data": {
      "image/png": "[encoded data removed]",
      "text/plain": [
       "<Figure size 800x500 with 1 Axes>"
      ]
     },
     "metadata": {},
     "output_type": "display_data"
    }
   ],
   "source": [
    "# code to plot distribution of schools and checking the count of GP & MS\n",
    "plt.figure(figsize=(8, 5))\n",
    "sns.countplot(x='school', data=df, palette='pastel')\n",
    "plt.title('Distribution of Schools')\n",
    "plt.xlabel('School')\n",
    "plt.ylabel('Count')\n",
    "plt.show()"
   ]
  },
  {
   "cell_type": "markdown",
   "metadata": {
    "id": "h9IkLL2jWIip"
   },
   "source": [
    "This plot describes the count of students joined to differnt schools.\n",
    "\n",
    "\"GP\" having a larger number of students compared to school \"MS\""
   ]
  },
  {
   "cell_type": "code",
   "execution_count": 8,
   "metadata": {
    "colab": {
     "base_uri": "https://localhost:8080/",
     "height": 564
    },
    "executionInfo": {
     "elapsed": 9,
     "status": "ok",
     "timestamp": 1711439347894,
     "user": {
      "displayName": "Saikumarreddy N",
      "userId": "04083008778842655593"
     },
     "user_tz": -330
    },
    "id": "AWZrS9KDV4pa",
    "outputId": "1f2c578b-3fb6-4908-a85f-24035a7ad004"
   },
   "outputs": [
    {
     "name": "stderr",
     "output_type": "stream",
     "text": [
      "/opt/anaconda3/lib/python3.11/site-packages/seaborn/_oldcore.py:1119: FutureWarning: use_inf_as_na option is deprecated and will be removed in a future version. Convert inf values to NaN before operating instead.\n",
      "  with pd.option_context('mode.use_inf_as_na', True):\n"
     ]
    },
    {
     "data": {
      "image/png": "[encoded data removed]",
      "text/plain": [
       "<Figure size 1000x600 with 1 Axes>"
      ]
     },
     "metadata": {},
     "output_type": "display_data"
    }
   ],
   "source": [
    "plt.figure(figsize=(10, 6))\n",
    "sns.histplot(df['age'], bins=10, kde=True, color='salmon')\n",
    "plt.title('Distribution of Age')\n",
    "plt.xlabel('Age')\n",
    "plt.ylabel('Count')\n",
    "plt.show()"
   ]
  },
  {
   "cell_type": "markdown",
   "metadata": {
    "id": "8Hzeackrw98S"
   },
   "source": [
    "### QA\n",
    "1.**Question:** What is the most common age group among the students in the dataset?\n",
    "\n",
    "**Answer:** The most common age group among the students appears to be around 15 to 16 years old.\n",
    "\n",
    "2.**Question:** Is the distribution of age skewed towards younger or older students?\n",
    "\n",
    "**Answer:** The distribution of age appears to be slightly skewed towards younger students, to the left side (lower ages). However, there is still a significant number of students in the older age groups, suggesting a relatively balanced distribution overall."
   ]
  },
  {
   "cell_type": "markdown",
   "metadata": {
    "id": "69l92qfhWacR"
   },
   "source": [
    "Most students in the dataset are around 15-18 years old, with the majority falling in the range of 15-17."
   ]
  },
  {
   "cell_type": "code",
   "execution_count": 9,
   "metadata": {
    "colab": {
     "base_uri": "https://localhost:8080/",
     "height": 594
    },
    "executionInfo": {
     "elapsed": 1292,
     "status": "ok",
     "timestamp": 1711439349179,
     "user": {
      "displayName": "Saikumarreddy N",
      "userId": "04083008778842655593"
     },
     "user_tz": -330
    },
    "id": "yYFxLZSnV4g2",
    "outputId": "1b0a2d3f-c89d-4b60-f17a-9b3ab7da445b"
   },
   "outputs": [
    {
     "data": {
      "image/png": "[encoded data removed]",
      "text/plain": [
       "<Figure size 800x500 with 1 Axes>"
      ]
     },
     "metadata": {},
     "output_type": "display_data"
    }
   ],
   "source": [
    "plt.figure(figsize=(8, 5))\n",
    "sns.countplot(x='address', data=df, palette='dark')\n",
    "plt.title('Distribution of Address')\n",
    "plt.xlabel('Address Type')\n",
    "plt.ylabel('Count')\n",
    "plt.show()"
   ]
  },
  {
   "cell_type": "markdown",
   "metadata": {
    "id": "ELFJw469WkYR"
   },
   "source": [
    "There are more students are from the urban areas compared to rural areas"
   ]
  },
  {
   "cell_type": "code",
   "execution_count": 10,
   "metadata": {
    "colab": {
     "base_uri": "https://localhost:8080/",
     "height": 521
    },
    "executionInfo": {
     "elapsed": 18,
     "status": "ok",
     "timestamp": 1711439349180,
     "user": {
      "displayName": "Saikumarreddy N",
      "userId": "04083008778842655593"
     },
     "user_tz": -330
    },
    "id": "ZVY8sLW2d_IN",
    "outputId": "76f0f698-d131-4015-c949-29a409051d68"
   },
   "outputs": [
    {
     "data": {
      "image/png": "[encoded data removed]",
      "text/plain": [
       "<Figure size 800x600 with 1 Axes>"
      ]
     },
     "metadata": {},
     "output_type": "display_data"
    }
   ],
   "source": [
    "reason_counts = df['reason'].value_counts()\n",
    "plt.figure(figsize=(8, 6))\n",
    "plt.pie(reason_counts, labels=reason_counts.index, autopct='%1.1f%%', colors=['lightblue', 'lightgreen', 'lightcoral', 'lightskyblue'])\n",
    "plt.title('Distribution of School Reputation as Reason for Choosing School')\n",
    "plt.show()"
   ]
  },
  {
   "cell_type": "markdown",
   "metadata": {
    "id": "eM7uI4lkxsz8"
   },
   "source": [
    "### QA\n",
    "4.**Question: What is the most common reason cited by students for choosing their school?**\n",
    "\n",
    "**Answer:** The most common reason cited by students for choosing their school is \"course preference\", which comprises the largest proportion of the distribution with approximately 44.4%.\n",
    "\n",
    "5.**Question: How do the proportions of different reasons for choosing school compare?**\n",
    "\n",
    "**Answer:** \"course preference\" is the most common reason, followed by \"home proximity\" with approximately 26.6%, \"other\" with approximately 18.5%, and \"reputation\" with approximately 10.5%. This suggests that students' course preferences play a significant role in school selection, while factors like home proximity and reputation are also considered but to a lesser extent."
   ]
  },
  {
   "cell_type": "markdown",
   "metadata": {
    "id": "K2rh_E5-gm4i"
   },
   "source": [
    "the distribution of reasons for choosing school, highlighting the percentage of students selecting school reputation as a reason.\n",
    "\n",
    "43.9% of the student for choosing the school is for course"
   ]
  },
  {
   "cell_type": "code",
   "execution_count": 11,
   "metadata": {
    "colab": {
     "base_uri": "https://localhost:8080/",
     "height": 521
    },
    "executionInfo": {
     "elapsed": 17,
     "status": "ok",
     "timestamp": 1711439349180,
     "user": {
      "displayName": "Saikumarreddy N",
      "userId": "04083008778842655593"
     },
     "user_tz": -330
    },
    "id": "z7QeEsPLd_Fp",
    "outputId": "8b4adb59-7cd7-484b-89b0-741bb9791113"
   },
   "outputs": [
    {
     "data": {
      "image/png": "[encoded data removed]",
      "text/plain": [
       "<Figure size 800x600 with 1 Axes>"
      ]
     },
     "metadata": {},
     "output_type": "display_data"
    }
   ],
   "source": [
    "activities_counts = df['activities'].value_counts()\n",
    "plt.figure(figsize=(8, 6))\n",
    "plt.pie(activities_counts, labels=activities_counts.index, autopct='%1.1f%%', colors=['lightskyblue', 'lightcoral'])\n",
    "plt.title('Distribution of Extra-curricular Activities Participation')\n",
    "plt.show()\n"
   ]
  },
  {
   "cell_type": "markdown",
   "metadata": {
    "id": "tXQ0ekHYkxdA"
   },
   "source": [
    "This plot describes about the student participation in other activities.\n",
    "\n",
    "51.5% of students are not participates in other extra activities."
   ]
  },
  {
   "cell_type": "code",
   "execution_count": 12,
   "metadata": {
    "colab": {
     "base_uri": "https://localhost:8080/"
    },
    "executionInfo": {
     "elapsed": 16,
     "status": "ok",
     "timestamp": 1711439349180,
     "user": {
      "displayName": "Saikumarreddy N",
      "userId": "04083008778842655593"
     },
     "user_tz": -330
    },
    "id": "wyH7JO63hh5V",
    "outputId": "54bcb30c-99e1-4694-fa75-4497ef1bb07b"
   },
   "outputs": [
    {
     "data": {
      "text/plain": [
       "Walc\n",
       "1    247\n",
       "2    150\n",
       "3    120\n",
       "4     87\n",
       "5     45\n",
       "Name: count, dtype: int64"
      ]
     },
     "execution_count": 12,
     "metadata": {},
     "output_type": "execute_result"
    }
   ],
   "source": [
    "df['Walc'].value_counts()"
   ]
  },
  {
   "cell_type": "markdown",
   "metadata": {
    "id": "8QVS5DX4h1D_"
   },
   "source": [
    "1: Very low level of weekend alcohol consumption.\n",
    "\n",
    "2: Low level of weekend alcohol consumption.\n",
    "\n",
    "3: Moderate level of weekend alcohol consumption.\n",
    "\n",
    "4: High level of weekend alcohol consumption.\n",
    "\n",
    "5: Very high level of weekend alcohol consumption."
   ]
  },
  {
   "cell_type": "code",
   "execution_count": 13,
   "metadata": {
    "colab": {
     "base_uri": "https://localhost:8080/",
     "height": 521
    },
    "executionInfo": {
     "elapsed": 14,
     "status": "ok",
     "timestamp": 1711439349180,
     "user": {
      "displayName": "Saikumarreddy N",
      "userId": "04083008778842655593"
     },
     "user_tz": -330
    },
    "id": "UyPjUI2Ed_Dd",
    "outputId": "9c9771ea-9d83-4e3d-dd1f-79dbef513739"
   },
   "outputs": [
    {
     "data": {
      "image/png": "[encoded data removed]",
      "text/plain": [
       "<Figure size 800x600 with 1 Axes>"
      ]
     },
     "metadata": {},
     "output_type": "display_data"
    }
   ],
   "source": [
    "walc_counts = df['Walc'].value_counts()\n",
    "plt.figure(figsize=(8, 6))\n",
    "plt.pie(walc_counts, labels=walc_counts.index, autopct='%1.1f%%', colors=['lightblue', 'lightgreen', 'lightcoral', 'lightskyblue', 'lightpink'])\n",
    "plt.title('Distribution of Weekend Alcohol Consumption (Walc)')\n",
    "plt.show()\n"
   ]
  },
  {
   "cell_type": "markdown",
   "metadata": {
    "id": "flF155Z3ydAJ"
   },
   "source": [
    "###QA\n",
    "\n",
    "1.**Question: What percentage of students exhibit low levels of weekend alcohol consumption?**\n",
    "\n",
    "**Answer:** Based on the pie chart, approximately 19.4% of students exhibit low levels of weekend alcohol consumption (Walc = 1), indicating that a minority of students consume alcohol at low levels on weekends.\n",
    "\n",
    "2.**Question: How prevalent is heavy weekend alcohol consumption among students?**\n",
    "\n",
    "**Answer:** The pie chart shows that approximately 25.6% of students exhibit heavy weekend alcohol consumption (Walc = 5), suggesting that a significant proportion of students engage in high levels of alcohol consumption on weekends. This indicates a potential concern for alcohol-related behaviors and their impact on student well-being and academic performance."
   ]
  },
  {
   "cell_type": "markdown",
   "metadata": {
    "id": "uqtWZYwDhRvz"
   },
   "source": [
    "This shows the distribution of weekend alcohol consumption levels among students.\n",
    "\n",
    "Where 38.1% of students having very low level of alcohol or no alcohol during weekends and 6.9% are having very high level during weekends"
   ]
  },
  {
   "cell_type": "code",
   "execution_count": 14,
   "metadata": {
    "colab": {
     "base_uri": "https://localhost:8080/",
     "height": 521
    },
    "executionInfo": {
     "elapsed": 13,
     "status": "ok",
     "timestamp": 1711439349180,
     "user": {
      "displayName": "Saikumarreddy N",
      "userId": "04083008778842655593"
     },
     "user_tz": -330
    },
    "id": "itobcTchd_AW",
    "outputId": "236064c3-b53c-4a33-822e-ce404a24db63"
   },
   "outputs": [
    {
     "data": {
      "image/png": "[encoded data removed]",
      "text/plain": [
       "<Figure size 800x600 with 1 Axes>"
      ]
     },
     "metadata": {},
     "output_type": "display_data"
    }
   ],
   "source": [
    "dalc_counts = df['Dalc'].value_counts()\n",
    "plt.figure(figsize=(8, 6))\n",
    "plt.pie(dalc_counts, labels=dalc_counts.index, autopct='%1.1f%%', colors=['lightblue', 'lightgreen', 'lightcoral', 'lightskyblue', 'lightpink'])\n",
    "plt.title('Distribution of Daily Alcohol Consumption (Dalc)')\n",
    "plt.show()\n"
   ]
  },
  {
   "cell_type": "markdown",
   "metadata": {
    "id": "s3-4gg4Riakt"
   },
   "source": [
    "2.6% of students having very high level of alcohol daily and 699.5% of students are taking very less or no alcohol daily."
   ]
  },
  {
   "cell_type": "markdown",
   "metadata": {
    "id": "Fi2aB4Crr0XZ"
   },
   "source": [
    "## Bi-variant"
   ]
  },
  {
   "cell_type": "code",
   "execution_count": 15,
   "metadata": {
    "colab": {
     "base_uri": "https://localhost:8080/",
     "height": 784
    },
    "executionInfo": {
     "elapsed": 1134,
     "status": "ok",
     "timestamp": 1711439350302,
     "user": {
      "displayName": "Saikumarreddy N",
      "userId": "04083008778842655593"
     },
     "user_tz": -330
    },
    "id": "xezL1ns8Ms_U",
    "outputId": "d2f9092a-b527-4cf7-a356-31f963ff4393"
   },
   "outputs": [
    {
     "data": {
      "image/png": "[encoded data removed]",
      "text/plain": [
       "<Figure size 1200x600 with 2 Axes>"
      ]
     },
     "metadata": {},
     "output_type": "display_data"
    }
   ],
   "source": [
    "plt.figure(figsize=(12, 6))\n",
    "\n",
    "# Plotting Mother's Education Level\n",
    "plt.subplot(1, 2, 1)\n",
    "sns.countplot(x='Medu', data=df, palette=\"Set2\")\n",
    "plt.xlabel(\"Mother's Education Level\")\n",
    "plt.ylabel('Count')\n",
    "plt.title(\"Mother's Education Level Distribution\")\n",
    "\n",
    "# Plotting Father's Education Level\n",
    "plt.subplot(1, 2, 2)\n",
    "sns.countplot(x='Fedu', data=df, palette=\"Set3\")\n",
    "plt.xlabel(\"Father's Education Level\")\n",
    "plt.ylabel('Count')\n",
    "plt.title(\"Father's Education Level Distribution\")\n",
    "\n",
    "plt.tight_layout()\n",
    "plt.show()"
   ]
  },
  {
   "cell_type": "markdown",
   "metadata": {
    "id": "kRC3vJ41NMkr"
   },
   "source": [
    "In the bove graph you can compare Educational level of both Mother and Father graph.\n",
    "\n",
    "* At 0th level, Very less number of parents almost 10 members are not studied from both mother and father column.\n",
    "* At 1st level, Men Count is higher than Women count in completing their first level of education.\n",
    "* At 2nd level, Both mother and father education, almost everyone completed their 2nd level of education.   \n",
    "* More number of women completed their 3rd and 4th level education compared to men.\n",
    "\n",
    "\n",
    "\n",
    "\n"
   ]
  },
  {
   "cell_type": "markdown",
   "metadata": {
    "id": "6pdYwSrry-5c"
   },
   "source": [
    "### QA\n",
    "\n",
    "6.**Question: What is the most common education level among mothers?**\n",
    "\n",
    "**Answer:** The most common education level among mothers appears to be \"high school\" (Medu = 4), with a relatively high count compared to other education levels.\n",
    "\n",
    "7.**Question: How do the distributions of mother's and father's education levels compare?**\n",
    "\n",
    "**Answer:** The distributions of mother's and father's education levels show some similarities, with both having a significant proportion of individuals with \"high school\" education (Medu = 4, Fedu = 2). However, there are also differences, such as a higher proportion of fathers with \"higher education\" (Fedu = 3) compared to mothers.\n",
    "\n",
    "8.**Question: What insights can be drawn from the distributions of parents' education levels?**\n",
    "\n",
    "**Answer:** The distributions suggest that a considerable portion of parents have attained at least a high school education level, with some having higher levels of education. This indicates a potential positive influence of parental education on students' academic aspirations and achievements. Further analysis could explore how parents' education levels correlate with students' academic performance and educational outcomes.\n",
    "\n",
    "\n",
    "\n",
    "\n"
   ]
  },
  {
   "cell_type": "code",
   "execution_count": 16,
   "metadata": {
    "colab": {
     "base_uri": "https://localhost:8080/",
     "height": 601
    },
    "executionInfo": {
     "elapsed": 12,
     "status": "ok",
     "timestamp": 1711439350302,
     "user": {
      "displayName": "Saikumarreddy N",
      "userId": "04083008778842655593"
     },
     "user_tz": -330
    },
    "id": "BqgQXP55GR10",
    "outputId": "6391d324-60f4-4c9c-8d38-6c868dd304ca"
   },
   "outputs": [
    {
     "data": {
      "text/plain": [
       "(array([0, 1, 2, 3]),\n",
       " [Text(0, 0, '1'), Text(1, 0, '2'), Text(2, 0, '3'), Text(3, 0, '4')])"
      ]
     },
     "execution_count": 16,
     "metadata": {},
     "output_type": "execute_result"
    },
    {
     "data": {
      "image/png": "[encoded data removed]",
      "text/plain": [
       "<Figure size 1000x600 with 1 Axes>"
      ]
     },
     "metadata": {},
     "output_type": "display_data"
    }
   ],
   "source": [
    "plt.figure(figsize=(10, 6))\n",
    "sns.barplot(x='studytime', y='G3', data=df)\n",
    "plt.xlabel(\"Studyhour\")\n",
    "plt.ylabel('Final Grade (G3)')\n",
    "plt.title(\"Average Final Grade by Student Study Hour\")\n",
    "plt.xticks(rotation=45)"
   ]
  },
  {
   "cell_type": "markdown",
   "metadata": {
    "id": "_7r1GVCTThgu"
   },
   "source": [
    "This above plot describes the insights of score final grade based in their study hour.\n",
    "* The student with 3hrs study scored more grade compared to others in thier final grade.\n",
    "* The student with 1hr study scored less grade compared to others in thier final grade."
   ]
  },
  {
   "cell_type": "code",
   "execution_count": 17,
   "metadata": {
    "colab": {
     "base_uri": "https://localhost:8080/",
     "height": 671
    },
    "executionInfo": {
     "elapsed": 9,
     "status": "ok",
     "timestamp": 1711439350302,
     "user": {
      "displayName": "Saikumarreddy N",
      "userId": "04083008778842655593"
     },
     "user_tz": -330
    },
    "id": "rT3dv_-lGR-d",
    "outputId": "d718b096-c250-478e-9329-8fc73f29c093"
   },
   "outputs": [
    {
     "data": {
      "image/png": "[encoded data removed]",
      "text/plain": [
       "<Figure size 1000x600 with 1 Axes>"
      ]
     },
     "metadata": {},
     "output_type": "display_data"
    }
   ],
   "source": [
    "plt.figure(figsize=(10, 6))\n",
    "sns.barplot(x='internet', y='G3', data=df, palette='Set1')\n",
    "plt.title('Relationship between Internet Access and Final Grade')\n",
    "plt.xlabel('Internet Access')\n",
    "plt.ylabel('Final Grade (G3)')\n",
    "plt.show()"
   ]
  },
  {
   "cell_type": "markdown",
   "metadata": {
    "id": "Sl_v9DZvYzEp"
   },
   "source": [
    "Students with internet access tend to have slightly higher final grades  compared to those without internet access"
   ]
  },
  {
   "cell_type": "code",
   "execution_count": null,
   "metadata": {
    "executionInfo": {
     "elapsed": 8,
     "status": "ok",
     "timestamp": 1711439350302,
     "user": {
      "displayName": "Saikumarreddy N",
      "userId": "04083008778842655593"
     },
     "user_tz": -330
    },
    "id": "VRjgwnJHs9vd"
   },
   "outputs": [],
   "source": []
  },
  {
   "cell_type": "markdown",
   "metadata": {
    "id": "kA9NGAJ0s-NJ"
   },
   "source": [
    "## Multi-variant"
   ]
  },
  {
   "cell_type": "code",
   "execution_count": 18,
   "metadata": {
    "colab": {
     "base_uri": "https://localhost:8080/",
     "height": 718
    },
    "executionInfo": {
     "elapsed": 961,
     "status": "ok",
     "timestamp": 1711439351255,
     "user": {
      "displayName": "Saikumarreddy N",
      "userId": "04083008778842655593"
     },
     "user_tz": -330
    },
    "id": "-hIazJO_XtZ1",
    "outputId": "682c6297-f5d8-49aa-8d93-ebe109742f9b"
   },
   "outputs": [
    {
     "data": {
      "image/png": "[encoded data removed]",
      "text/plain": [
       "<Figure size 1200x800 with 1 Axes>"
      ]
     },
     "metadata": {},
     "output_type": "display_data"
    }
   ],
   "source": [
    "plt.figure(figsize=(12, 8))\n",
    "sns.barplot(x='sex', y='G3', hue='address', data=df, palette='Set2')\n",
    "plt.title('Final Grade (G3) by Gender and Address')\n",
    "plt.xlabel('Gender')\n",
    "plt.ylabel('Final Grade (G3)')\n",
    "plt.legend(title='Address')\n",
    "plt.show()"
   ]
  },
  {
   "cell_type": "code",
   "execution_count": 19,
   "metadata": {
    "colab": {
     "base_uri": "https://localhost:8080/",
     "height": 765
    },
    "executionInfo": {
     "elapsed": 10,
     "status": "ok",
     "timestamp": 1711439351255,
     "user": {
      "displayName": "Saikumarreddy N",
      "userId": "04083008778842655593"
     },
     "user_tz": -330
    },
    "id": "ccMKJEpCd-4J",
    "outputId": "3dfe6414-a313-4a9b-fc21-a19b35ce3c4f"
   },
   "outputs": [
    {
     "data": {
      "image/png": "[encoded data removed]",
      "text/plain": [
       "<Figure size 1200x800 with 1 Axes>"
      ]
     },
     "metadata": {},
     "output_type": "display_data"
    }
   ],
   "source": [
    "# Selecting the numerical columns for visualization\n",
    "numerical_columns = ['age', 'traveltime', 'studytime', 'absences', 'G1', 'G2', 'G3']\n",
    "\n",
    "# Creating a box plot for multiple columns\n",
    "plt.figure(figsize=(12, 8))\n",
    "sns.boxplot(data=df[numerical_columns], palette='Set2')\n",
    "plt.title('Box Plot of Multiple Columns')\n",
    "plt.ylabel('Value')\n",
    "plt.xlabel('Column')\n",
    "plt.xticks(rotation=45)  # Rotate x-axis labels for better readability\n",
    "plt.show()"
   ]
  },
  {
   "cell_type": "markdown",
   "metadata": {
    "id": "yh-iUO6_nzpI"
   },
   "source": [
    "* Age: The median age appears to be around 17 years old, with some outliers indicating older or younger students.\n",
    "\n",
    "* Travel Time:  Most students seem to have short travel times, with a median around 1 hour.\n",
    "\n",
    "* Study Time: Most students appear to spend between 1 to 2 hours studying per week, with some outliers showing higher study times.\n",
    "\n",
    "* Absences: Most students have a low number of absences, but there are some outliers with significantly higher values.\n",
    "\n",
    "* Grades (G1, G2, G3): The median grades appear to increase from G1 to G3, indicating potential improvement in academic performance over time. However, there are also some outliers in each period, suggesting variations in individual performance."
   ]
  },
  {
   "cell_type": "markdown",
   "metadata": {
    "id": "DfE2gDgv1-Au"
   },
   "source": [
    "9.**Question: Which column has the largest spread (distance between the upper and lower quartiles)?**\n",
    "\n",
    "**Answer:** The column with the largest spread is studytime. The interquartile range (IQR) for studytime is about 20, while the IQR for the other columns is much smaller.\n",
    "\n",
    "10.**Question: Which column has the most outliers?**\n",
    "\n",
    "**Answer:** The column with the most outliers is G3. There are several points that fall outside the whiskers for G3, while the other columns have few or no outliers.\n",
    "\n",
    "11.**Question: Which column has the highest median?**\n",
    "\n",
    "**Answer:** The column with the highest median is G1. The median for G1 is 90, while the median for the other columns is lower.\n",
    "\n"
   ]
  },
  {
   "cell_type": "code",
   "execution_count": 20,
   "metadata": {
    "colab": {
     "base_uri": "https://localhost:8080/",
     "height": 965
    },
    "executionInfo": {
     "elapsed": 2038,
     "status": "ok",
     "timestamp": 1711439353284,
     "user": {
      "displayName": "Saikumarreddy N",
      "userId": "04083008778842655593"
     },
     "user_tz": -330
    },
    "id": "9mjhItYJnafQ",
    "outputId": "c683743a-2c19-4e45-e451-9eeea14a8599"
   },
   "outputs": [
    {
     "data": {
      "image/png": "[encoded data removed]",
      "text/plain": [
       "<Figure size 1200x1000 with 2 Axes>"
      ]
     },
     "metadata": {},
     "output_type": "display_data"
    }
   ],
   "source": [
    "import seaborn as sns\n",
    "import matplotlib.pyplot as plt\n",
    "\n",
    "# Calculate the correlation matrix\n",
    "correlation_matrix = df.corr(numeric_only = True)\n",
    "\n",
    "# Plot the heatmap with adjusted font size\n",
    "plt.figure(figsize=(12, 10))\n",
    "sns.heatmap(correlation_matrix, annot=True, cmap='coolwarm', fmt=\".2f\", linewidths=.5, annot_kws={\"size\": 10})\n",
    "plt.title('Correlation Heatmap')\n",
    "plt.show()"
   ]
  },
  {
   "cell_type": "markdown",
   "metadata": {
    "id": "YEi8l7Pz3syn"
   },
   "source": [
    "**12.Which variables have the strongest positive correlation?**\n",
    "\n",
    "The variables with the strongest positive correlation are G1 and G2 with a correlation coefficient of 0.86. This means that these two variables tend to move together, so when one increases, the other also tends to increase. Other strong positive correlations include:\n",
    "\n",
    "* G1 and G3 (0.83)\n",
    "* studytime and absences (0.26)\n",
    "* Walc and Dalc (0.62)\n",
    "\n",
    "**13.Which variables have the strongest negative correlation?**\n",
    "\n",
    "The variables with the strongest negative correlation are age and G2 with a correlation coefficient of -0.22. This means that there is a weak negative association between these two variables, so as age increases, G2 tends to decrease slightly. Other negative correlations include:\n",
    "\n",
    "* age and G3 (-0.11)\n",
    "* traveltime and G1 (-0.17)\n",
    "* traveltime and G2 (-0.15)\n",
    "* studytime and failures (-0.21)\n",
    "\n",
    "**14.Are there any surprising correlations?**\n",
    "\n",
    "It is interesting to note that there is a positive correlation between studytime and absences. This could be because students who spend more time studying may also be more likely to miss school due to illness or other reasons. Additionally, the positive correlation between Walc and Dalc suggests that students who use one type of alcohol are more likely to use the other."
   ]
  },
  {
   "cell_type": "code",
   "execution_count": 21,
   "metadata": {
    "colab": {
     "base_uri": "https://localhost:8080/"
    },
    "executionInfo": {
     "elapsed": 9,
     "status": "ok",
     "timestamp": 1711439392520,
     "user": {
      "displayName": "Saikumarreddy N",
      "userId": "04083008778842655593"
     },
     "user_tz": -330
    },
    "id": "RR-yWa6R4aXW",
    "outputId": "8b2f47a3-3581-4349-c987-1954a27b00e6"
   },
   "outputs": [
    {
     "name": "stdout",
     "output_type": "stream",
     "text": [
      "<class 'pandas.core.frame.DataFrame'>\n",
      "RangeIndex: 649 entries, 0 to 648\n",
      "Data columns (total 33 columns):\n",
      " #   Column      Non-Null Count  Dtype \n",
      "---  ------      --------------  ----- \n",
      " 0   school      649 non-null    object\n",
      " 1   sex         649 non-null    object\n",
      " 2   age         649 non-null    int64 \n",
      " 3   address     649 non-null    object\n",
      " 4   famsize     649 non-null    object\n",
      " 5   Pstatus     649 non-null    object\n",
      " 6   Medu        649 non-null    int64 \n",
      " 7   Fedu        649 non-null    int64 \n",
      " 8   Mjob        649 non-null    object\n",
      " 9   Fjob        649 non-null    object\n",
      " 10  reason      649 non-null    object\n",
      " 11  guardian    649 non-null    object\n",
      " 12  traveltime  649 non-null    int64 \n",
      " 13  studytime   649 non-null    int64 \n",
      " 14  failures    649 non-null    int64 \n",
      " 15  schoolsup   649 non-null    object\n",
      " 16  famsup      649 non-null    object\n",
      " 17  paid        649 non-null    object\n",
      " 18  activities  649 non-null    object\n",
      " 19  nursery     649 non-null    object\n",
      " 20  higher      649 non-null    object\n",
      " 21  internet    649 non-null    object\n",
      " 22  romantic    649 non-null    object\n",
      " 23  famrel      649 non-null    int64 \n",
      " 24  freetime    649 non-null    int64 \n",
      " 25  goout       649 non-null    int64 \n",
      " 26  Dalc        649 non-null    int64 \n",
      " 27  Walc        649 non-null    int64 \n",
      " 28  health      649 non-null    int64 \n",
      " 29  absences    649 non-null    int64 \n",
      " 30  G1          649 non-null    int64 \n",
      " 31  G2          649 non-null    int64 \n",
      " 32  G3          649 non-null    int64 \n",
      "dtypes: int64(16), object(17)\n",
      "memory usage: 167.4+ KB\n"
     ]
    }
   ],
   "source": [
    "df.info()"
   ]
  },
  {
   "cell_type": "code",
   "execution_count": 22,
   "metadata": {
    "colab": {
     "base_uri": "https://localhost:8080/",
     "height": 444
    },
    "executionInfo": {
     "elapsed": 406,
     "status": "ok",
     "timestamp": 1711439543451,
     "user": {
      "displayName": "Saikumarreddy N",
      "userId": "04083008778842655593"
     },
     "user_tz": -330
    },
    "id": "5gKZShGT4aUm",
    "outputId": "97565c09-606a-418e-f951-00ea4a2846c9"
   },
   "outputs": [
    {
     "data": {
      "text/html": [
       "<div>\n",
       "<style scoped>\n",
       "    .dataframe tbody tr th:only-of-type {\n",
       "        vertical-align: middle;\n",
       "    }\n",
       "\n",
       "    .dataframe tbody tr th {\n",
       "        vertical-align: top;\n",
       "    }\n",
       "\n",
       "    .dataframe thead th {\n",
       "        text-align: right;\n",
       "    }\n",
       "</style>\n",
       "<table border=\"1\" class=\"dataframe\">\n",
       "  <thead>\n",
       "    <tr style=\"text-align: right;\">\n",
       "      <th></th>\n",
       "      <th>school</th>\n",
       "      <th>sex</th>\n",
       "      <th>age</th>\n",
       "      <th>address</th>\n",
       "      <th>famsize</th>\n",
       "      <th>Pstatus</th>\n",
       "      <th>Medu</th>\n",
       "      <th>Fedu</th>\n",
       "      <th>Mjob</th>\n",
       "      <th>Fjob</th>\n",
       "      <th>...</th>\n",
       "      <th>famrel</th>\n",
       "      <th>freetime</th>\n",
       "      <th>goout</th>\n",
       "      <th>Dalc</th>\n",
       "      <th>Walc</th>\n",
       "      <th>health</th>\n",
       "      <th>absences</th>\n",
       "      <th>G1</th>\n",
       "      <th>G2</th>\n",
       "      <th>G3</th>\n",
       "    </tr>\n",
       "  </thead>\n",
       "  <tbody>\n",
       "    <tr>\n",
       "      <th>0</th>\n",
       "      <td>GP</td>\n",
       "      <td>F</td>\n",
       "      <td>18</td>\n",
       "      <td>U</td>\n",
       "      <td>GT3</td>\n",
       "      <td>A</td>\n",
       "      <td>4</td>\n",
       "      <td>4</td>\n",
       "      <td>at_home</td>\n",
       "      <td>teacher</td>\n",
       "      <td>...</td>\n",
       "      <td>4</td>\n",
       "      <td>3</td>\n",
       "      <td>4</td>\n",
       "      <td>1</td>\n",
       "      <td>1</td>\n",
       "      <td>3</td>\n",
       "      <td>4</td>\n",
       "      <td>0</td>\n",
       "      <td>11</td>\n",
       "      <td>11</td>\n",
       "    </tr>\n",
       "    <tr>\n",
       "      <th>1</th>\n",
       "      <td>GP</td>\n",
       "      <td>F</td>\n",
       "      <td>17</td>\n",
       "      <td>U</td>\n",
       "      <td>GT3</td>\n",
       "      <td>T</td>\n",
       "      <td>1</td>\n",
       "      <td>1</td>\n",
       "      <td>at_home</td>\n",
       "      <td>other</td>\n",
       "      <td>...</td>\n",
       "      <td>5</td>\n",
       "      <td>3</td>\n",
       "      <td>3</td>\n",
       "      <td>1</td>\n",
       "      <td>1</td>\n",
       "      <td>3</td>\n",
       "      <td>2</td>\n",
       "      <td>9</td>\n",
       "      <td>11</td>\n",
       "      <td>11</td>\n",
       "    </tr>\n",
       "    <tr>\n",
       "      <th>2</th>\n",
       "      <td>GP</td>\n",
       "      <td>F</td>\n",
       "      <td>15</td>\n",
       "      <td>U</td>\n",
       "      <td>LE3</td>\n",
       "      <td>T</td>\n",
       "      <td>1</td>\n",
       "      <td>1</td>\n",
       "      <td>at_home</td>\n",
       "      <td>other</td>\n",
       "      <td>...</td>\n",
       "      <td>4</td>\n",
       "      <td>3</td>\n",
       "      <td>2</td>\n",
       "      <td>2</td>\n",
       "      <td>3</td>\n",
       "      <td>3</td>\n",
       "      <td>6</td>\n",
       "      <td>12</td>\n",
       "      <td>13</td>\n",
       "      <td>12</td>\n",
       "    </tr>\n",
       "    <tr>\n",
       "      <th>3</th>\n",
       "      <td>GP</td>\n",
       "      <td>F</td>\n",
       "      <td>15</td>\n",
       "      <td>U</td>\n",
       "      <td>GT3</td>\n",
       "      <td>T</td>\n",
       "      <td>4</td>\n",
       "      <td>2</td>\n",
       "      <td>health</td>\n",
       "      <td>services</td>\n",
       "      <td>...</td>\n",
       "      <td>3</td>\n",
       "      <td>2</td>\n",
       "      <td>2</td>\n",
       "      <td>1</td>\n",
       "      <td>1</td>\n",
       "      <td>5</td>\n",
       "      <td>0</td>\n",
       "      <td>14</td>\n",
       "      <td>14</td>\n",
       "      <td>14</td>\n",
       "    </tr>\n",
       "    <tr>\n",
       "      <th>4</th>\n",
       "      <td>GP</td>\n",
       "      <td>F</td>\n",
       "      <td>16</td>\n",
       "      <td>U</td>\n",
       "      <td>GT3</td>\n",
       "      <td>T</td>\n",
       "      <td>3</td>\n",
       "      <td>3</td>\n",
       "      <td>other</td>\n",
       "      <td>other</td>\n",
       "      <td>...</td>\n",
       "      <td>4</td>\n",
       "      <td>3</td>\n",
       "      <td>2</td>\n",
       "      <td>1</td>\n",
       "      <td>2</td>\n",
       "      <td>5</td>\n",
       "      <td>0</td>\n",
       "      <td>11</td>\n",
       "      <td>13</td>\n",
       "      <td>13</td>\n",
       "    </tr>\n",
       "    <tr>\n",
       "      <th>...</th>\n",
       "      <td>...</td>\n",
       "      <td>...</td>\n",
       "      <td>...</td>\n",
       "      <td>...</td>\n",
       "      <td>...</td>\n",
       "      <td>...</td>\n",
       "      <td>...</td>\n",
       "      <td>...</td>\n",
       "      <td>...</td>\n",
       "      <td>...</td>\n",
       "      <td>...</td>\n",
       "      <td>...</td>\n",
       "      <td>...</td>\n",
       "      <td>...</td>\n",
       "      <td>...</td>\n",
       "      <td>...</td>\n",
       "      <td>...</td>\n",
       "      <td>...</td>\n",
       "      <td>...</td>\n",
       "      <td>...</td>\n",
       "      <td>...</td>\n",
       "    </tr>\n",
       "    <tr>\n",
       "      <th>644</th>\n",
       "      <td>MS</td>\n",
       "      <td>F</td>\n",
       "      <td>19</td>\n",
       "      <td>R</td>\n",
       "      <td>GT3</td>\n",
       "      <td>T</td>\n",
       "      <td>2</td>\n",
       "      <td>3</td>\n",
       "      <td>services</td>\n",
       "      <td>other</td>\n",
       "      <td>...</td>\n",
       "      <td>5</td>\n",
       "      <td>4</td>\n",
       "      <td>2</td>\n",
       "      <td>1</td>\n",
       "      <td>2</td>\n",
       "      <td>5</td>\n",
       "      <td>4</td>\n",
       "      <td>10</td>\n",
       "      <td>11</td>\n",
       "      <td>10</td>\n",
       "    </tr>\n",
       "    <tr>\n",
       "      <th>645</th>\n",
       "      <td>MS</td>\n",
       "      <td>F</td>\n",
       "      <td>18</td>\n",
       "      <td>U</td>\n",
       "      <td>LE3</td>\n",
       "      <td>T</td>\n",
       "      <td>3</td>\n",
       "      <td>1</td>\n",
       "      <td>teacher</td>\n",
       "      <td>services</td>\n",
       "      <td>...</td>\n",
       "      <td>4</td>\n",
       "      <td>3</td>\n",
       "      <td>4</td>\n",
       "      <td>1</td>\n",
       "      <td>1</td>\n",
       "      <td>1</td>\n",
       "      <td>4</td>\n",
       "      <td>15</td>\n",
       "      <td>15</td>\n",
       "      <td>16</td>\n",
       "    </tr>\n",
       "    <tr>\n",
       "      <th>646</th>\n",
       "      <td>MS</td>\n",
       "      <td>F</td>\n",
       "      <td>18</td>\n",
       "      <td>U</td>\n",
       "      <td>GT3</td>\n",
       "      <td>T</td>\n",
       "      <td>1</td>\n",
       "      <td>1</td>\n",
       "      <td>other</td>\n",
       "      <td>other</td>\n",
       "      <td>...</td>\n",
       "      <td>1</td>\n",
       "      <td>1</td>\n",
       "      <td>1</td>\n",
       "      <td>1</td>\n",
       "      <td>1</td>\n",
       "      <td>5</td>\n",
       "      <td>6</td>\n",
       "      <td>11</td>\n",
       "      <td>12</td>\n",
       "      <td>9</td>\n",
       "    </tr>\n",
       "    <tr>\n",
       "      <th>647</th>\n",
       "      <td>MS</td>\n",
       "      <td>M</td>\n",
       "      <td>17</td>\n",
       "      <td>U</td>\n",
       "      <td>LE3</td>\n",
       "      <td>T</td>\n",
       "      <td>3</td>\n",
       "      <td>1</td>\n",
       "      <td>services</td>\n",
       "      <td>services</td>\n",
       "      <td>...</td>\n",
       "      <td>2</td>\n",
       "      <td>4</td>\n",
       "      <td>5</td>\n",
       "      <td>3</td>\n",
       "      <td>4</td>\n",
       "      <td>2</td>\n",
       "      <td>6</td>\n",
       "      <td>10</td>\n",
       "      <td>10</td>\n",
       "      <td>10</td>\n",
       "    </tr>\n",
       "    <tr>\n",
       "      <th>648</th>\n",
       "      <td>MS</td>\n",
       "      <td>M</td>\n",
       "      <td>18</td>\n",
       "      <td>R</td>\n",
       "      <td>LE3</td>\n",
       "      <td>T</td>\n",
       "      <td>3</td>\n",
       "      <td>2</td>\n",
       "      <td>services</td>\n",
       "      <td>other</td>\n",
       "      <td>...</td>\n",
       "      <td>4</td>\n",
       "      <td>4</td>\n",
       "      <td>1</td>\n",
       "      <td>3</td>\n",
       "      <td>4</td>\n",
       "      <td>5</td>\n",
       "      <td>4</td>\n",
       "      <td>10</td>\n",
       "      <td>11</td>\n",
       "      <td>11</td>\n",
       "    </tr>\n",
       "  </tbody>\n",
       "</table>\n",
       "<p>649 rows × 33 columns</p>\n",
       "</div>"
      ],
      "text/plain": [
       "    school sex  age address famsize Pstatus  Medu  Fedu      Mjob      Fjob  \\\n",
       "0       GP   F   18       U     GT3       A     4     4   at_home   teacher   \n",
       "1       GP   F   17       U     GT3       T     1     1   at_home     other   \n",
       "2       GP   F   15       U     LE3       T     1     1   at_home     other   \n",
       "3       GP   F   15       U     GT3       T     4     2    health  services   \n",
       "4       GP   F   16       U     GT3       T     3     3     other     other   \n",
       "..     ...  ..  ...     ...     ...     ...   ...   ...       ...       ...   \n",
       "644     MS   F   19       R     GT3       T     2     3  services     other   \n",
       "645     MS   F   18       U     LE3       T     3     1   teacher  services   \n",
       "646     MS   F   18       U     GT3       T     1     1     other     other   \n",
       "647     MS   M   17       U     LE3       T     3     1  services  services   \n",
       "648     MS   M   18       R     LE3       T     3     2  services     other   \n",
       "\n",
       "     ... famrel freetime  goout  Dalc  Walc health absences  G1  G2  G3  \n",
       "0    ...      4        3      4     1     1      3        4   0  11  11  \n",
       "1    ...      5        3      3     1     1      3        2   9  11  11  \n",
       "2    ...      4        3      2     2     3      3        6  12  13  12  \n",
       "3    ...      3        2      2     1     1      5        0  14  14  14  \n",
       "4    ...      4        3      2     1     2      5        0  11  13  13  \n",
       "..   ...    ...      ...    ...   ...   ...    ...      ...  ..  ..  ..  \n",
       "644  ...      5        4      2     1     2      5        4  10  11  10  \n",
       "645  ...      4        3      4     1     1      1        4  15  15  16  \n",
       "646  ...      1        1      1     1     1      5        6  11  12   9  \n",
       "647  ...      2        4      5     3     4      2        6  10  10  10  \n",
       "648  ...      4        4      1     3     4      5        4  10  11  11  \n",
       "\n",
       "[649 rows x 33 columns]"
      ]
     },
     "execution_count": 22,
     "metadata": {},
     "output_type": "execute_result"
    }
   ],
   "source": [
    "df"
   ]
  },
  {
   "cell_type": "markdown",
   "metadata": {
    "id": "3_uVOKfYv-8E"
   },
   "source": [
    "## Outliter ditection"
   ]
  },
  {
   "cell_type": "code",
   "execution_count": 23,
   "metadata": {
    "executionInfo": {
     "elapsed": 6,
     "status": "ok",
     "timestamp": 1711439676145,
     "user": {
      "displayName": "Saikumarreddy N",
      "userId": "04083008778842655593"
     },
     "user_tz": -330
    },
    "id": "ZF47lrXKwOJ4"
   },
   "outputs": [],
   "source": [
    "students_grades_df = df"
   ]
  },
  {
   "cell_type": "code",
   "execution_count": 24,
   "metadata": {
    "executionInfo": {
     "elapsed": 4,
     "status": "ok",
     "timestamp": 1711439678061,
     "user": {
      "displayName": "Saikumarreddy N",
      "userId": "04083008778842655593"
     },
     "user_tz": -330
    },
    "id": "qP9WucP1tCio"
   },
   "outputs": [],
   "source": [
    "# But before we start, lets drop columns G1, G2 & G3.\n",
    "column_to_drop = ['G1', 'G2', 'G3']\n",
    "students_grades_df = students_grades_df.drop(column_to_drop, axis=1)"
   ]
  },
  {
   "cell_type": "code",
   "execution_count": 25,
   "metadata": {
    "executionInfo": {
     "elapsed": 724,
     "status": "ok",
     "timestamp": 1711439701421,
     "user": {
      "displayName": "Saikumarreddy N",
      "userId": "04083008778842655593"
     },
     "user_tz": -330
    },
    "id": "KhP09HrJwQYE"
   },
   "outputs": [],
   "source": [
    "def detect_outliers(columns):\n",
    "    outlier_indices = []\n",
    "    for column in columns:\n",
    "        Q1 = students_grades_df[column].quantile(0.25)\n",
    "        Q3 = students_grades_df[column].quantile(0.75)\n",
    "        IQR = Q3 - Q1  # IQR is interquartile range.\n",
    "\n",
    "        mask = (students_grades_df[column] >= Q1 - 1.5 *\n",
    "                IQR) & (students_grades_df[column] <= Q3 + 1.5 * IQR)\n",
    "        mask = mask.to_numpy()\n",
    "        false_indices = np.argwhere(~mask)\n",
    "        outlier_indices.append(false_indices)\n",
    "    return np.unique(np.concatenate(outlier_indices).ravel())\n",
    "\n"
   ]
  },
  {
   "cell_type": "code",
   "execution_count": 26,
   "metadata": {
    "executionInfo": {
     "elapsed": 2,
     "status": "ok",
     "timestamp": 1711440117999,
     "user": {
      "displayName": "Saikumarreddy N",
      "userId": "04083008778842655593"
     },
     "user_tz": -330
    },
    "id": "j2_UOqY9wV8R"
   },
   "outputs": [],
   "source": [
    "numerical_columns = ['age', 'absences']\n",
    "outlier_indices = detect_outliers(numerical_columns)"
   ]
  },
  {
   "cell_type": "code",
   "execution_count": 27,
   "metadata": {
    "colab": {
     "base_uri": "https://localhost:8080/"
    },
    "executionInfo": {
     "elapsed": 442,
     "status": "ok",
     "timestamp": 1711440126069,
     "user": {
      "displayName": "Saikumarreddy N",
      "userId": "04083008778842655593"
     },
     "user_tz": -330
    },
    "id": "qUut_D1sxe-7",
    "outputId": "6074df03-e007-4414-828f-f6253c72849f"
   },
   "outputs": [
    {
     "name": "stdout",
     "output_type": "stream",
     "text": [
      "Number of outliers: 22\n"
     ]
    }
   ],
   "source": [
    "print(f'Number of outliers: {len(outlier_indices)}')"
   ]
  },
  {
   "cell_type": "code",
   "execution_count": 28,
   "metadata": {
    "executionInfo": {
     "elapsed": 6,
     "status": "ok",
     "timestamp": 1711440137430,
     "user": {
      "displayName": "Saikumarreddy N",
      "userId": "04083008778842655593"
     },
     "user_tz": -330
    },
    "id": "HYB1evXkx9vy"
   },
   "outputs": [],
   "source": [
    "# Delete outliers\n",
    "students_grades_df = students_grades_df.drop(outlier_indices, axis=0)"
   ]
  },
  {
   "cell_type": "markdown",
   "metadata": {
    "id": "bwf9m4OSyDwa"
   },
   "source": [
    "## Data Split"
   ]
  },
  {
   "cell_type": "code",
   "execution_count": 29,
   "metadata": {
    "colab": {
     "base_uri": "https://localhost:8080/"
    },
    "executionInfo": {
     "elapsed": 5,
     "status": "ok",
     "timestamp": 1711440341342,
     "user": {
      "displayName": "Saikumarreddy N",
      "userId": "04083008778842655593"
     },
     "user_tz": -330
    },
    "id": "GO_N2vjEyw_K",
    "outputId": "cf25c8cd-0a24-4705-c38b-e5fc2b7cf659"
   },
   "outputs": [
    {
     "name": "stdout",
     "output_type": "stream",
     "text": [
      "<class 'pandas.core.frame.DataFrame'>\n",
      "Index: 627 entries, 0 to 648\n",
      "Data columns (total 30 columns):\n",
      " #   Column      Non-Null Count  Dtype \n",
      "---  ------      --------------  ----- \n",
      " 0   school      627 non-null    object\n",
      " 1   sex         627 non-null    object\n",
      " 2   age         627 non-null    int64 \n",
      " 3   address     627 non-null    object\n",
      " 4   famsize     627 non-null    object\n",
      " 5   Pstatus     627 non-null    object\n",
      " 6   Medu        627 non-null    int64 \n",
      " 7   Fedu        627 non-null    int64 \n",
      " 8   Mjob        627 non-null    object\n",
      " 9   Fjob        627 non-null    object\n",
      " 10  reason      627 non-null    object\n",
      " 11  guardian    627 non-null    object\n",
      " 12  traveltime  627 non-null    int64 \n",
      " 13  studytime   627 non-null    int64 \n",
      " 14  failures    627 non-null    int64 \n",
      " 15  schoolsup   627 non-null    object\n",
      " 16  famsup      627 non-null    object\n",
      " 17  paid        627 non-null    object\n",
      " 18  activities  627 non-null    object\n",
      " 19  nursery     627 non-null    object\n",
      " 20  higher      627 non-null    object\n",
      " 21  internet    627 non-null    object\n",
      " 22  romantic    627 non-null    object\n",
      " 23  famrel      627 non-null    int64 \n",
      " 24  freetime    627 non-null    int64 \n",
      " 25  goout       627 non-null    int64 \n",
      " 26  Dalc        627 non-null    int64 \n",
      " 27  Walc        627 non-null    int64 \n",
      " 28  health      627 non-null    int64 \n",
      " 29  absences    627 non-null    int64 \n",
      "dtypes: int64(13), object(17)\n",
      "memory usage: 151.9+ KB\n"
     ]
    }
   ],
   "source": [
    "students_grades_df.info()"
   ]
  },
  {
   "cell_type": "code",
   "execution_count": 30,
   "metadata": {
    "executionInfo": {
     "elapsed": 360,
     "status": "ok",
     "timestamp": 1711440159866,
     "user": {
      "displayName": "Saikumarreddy N",
      "userId": "04083008778842655593"
     },
     "user_tz": -330
    },
    "id": "lpjsgTJ2yAkD"
   },
   "outputs": [],
   "source": [
    "# Split dataset\n",
    "X, y = students_grades_df.iloc[:, :-1], students_grades_df.iloc[:, -1]"
   ]
  },
  {
   "cell_type": "code",
   "execution_count": 31,
   "metadata": {},
   "outputs": [
    {
     "data": {
      "text/html": [
       "<div>\n",
       "<style scoped>\n",
       "    .dataframe tbody tr th:only-of-type {\n",
       "        vertical-align: middle;\n",
       "    }\n",
       "\n",
       "    .dataframe tbody tr th {\n",
       "        vertical-align: top;\n",
       "    }\n",
       "\n",
       "    .dataframe thead th {\n",
       "        text-align: right;\n",
       "    }\n",
       "</style>\n",
       "<table border=\"1\" class=\"dataframe\">\n",
       "  <thead>\n",
       "    <tr style=\"text-align: right;\">\n",
       "      <th></th>\n",
       "      <th>school</th>\n",
       "      <th>sex</th>\n",
       "      <th>age</th>\n",
       "      <th>address</th>\n",
       "      <th>famsize</th>\n",
       "      <th>Pstatus</th>\n",
       "      <th>Medu</th>\n",
       "      <th>Fedu</th>\n",
       "      <th>Mjob</th>\n",
       "      <th>Fjob</th>\n",
       "      <th>...</th>\n",
       "      <th>nursery</th>\n",
       "      <th>higher</th>\n",
       "      <th>internet</th>\n",
       "      <th>romantic</th>\n",
       "      <th>famrel</th>\n",
       "      <th>freetime</th>\n",
       "      <th>goout</th>\n",
       "      <th>Dalc</th>\n",
       "      <th>Walc</th>\n",
       "      <th>health</th>\n",
       "    </tr>\n",
       "  </thead>\n",
       "  <tbody>\n",
       "    <tr>\n",
       "      <th>0</th>\n",
       "      <td>GP</td>\n",
       "      <td>F</td>\n",
       "      <td>18</td>\n",
       "      <td>U</td>\n",
       "      <td>GT3</td>\n",
       "      <td>A</td>\n",
       "      <td>4</td>\n",
       "      <td>4</td>\n",
       "      <td>at_home</td>\n",
       "      <td>teacher</td>\n",
       "      <td>...</td>\n",
       "      <td>yes</td>\n",
       "      <td>yes</td>\n",
       "      <td>no</td>\n",
       "      <td>no</td>\n",
       "      <td>4</td>\n",
       "      <td>3</td>\n",
       "      <td>4</td>\n",
       "      <td>1</td>\n",
       "      <td>1</td>\n",
       "      <td>3</td>\n",
       "    </tr>\n",
       "    <tr>\n",
       "      <th>1</th>\n",
       "      <td>GP</td>\n",
       "      <td>F</td>\n",
       "      <td>17</td>\n",
       "      <td>U</td>\n",
       "      <td>GT3</td>\n",
       "      <td>T</td>\n",
       "      <td>1</td>\n",
       "      <td>1</td>\n",
       "      <td>at_home</td>\n",
       "      <td>other</td>\n",
       "      <td>...</td>\n",
       "      <td>no</td>\n",
       "      <td>yes</td>\n",
       "      <td>yes</td>\n",
       "      <td>no</td>\n",
       "      <td>5</td>\n",
       "      <td>3</td>\n",
       "      <td>3</td>\n",
       "      <td>1</td>\n",
       "      <td>1</td>\n",
       "      <td>3</td>\n",
       "    </tr>\n",
       "    <tr>\n",
       "      <th>2</th>\n",
       "      <td>GP</td>\n",
       "      <td>F</td>\n",
       "      <td>15</td>\n",
       "      <td>U</td>\n",
       "      <td>LE3</td>\n",
       "      <td>T</td>\n",
       "      <td>1</td>\n",
       "      <td>1</td>\n",
       "      <td>at_home</td>\n",
       "      <td>other</td>\n",
       "      <td>...</td>\n",
       "      <td>yes</td>\n",
       "      <td>yes</td>\n",
       "      <td>yes</td>\n",
       "      <td>no</td>\n",
       "      <td>4</td>\n",
       "      <td>3</td>\n",
       "      <td>2</td>\n",
       "      <td>2</td>\n",
       "      <td>3</td>\n",
       "      <td>3</td>\n",
       "    </tr>\n",
       "    <tr>\n",
       "      <th>3</th>\n",
       "      <td>GP</td>\n",
       "      <td>F</td>\n",
       "      <td>15</td>\n",
       "      <td>U</td>\n",
       "      <td>GT3</td>\n",
       "      <td>T</td>\n",
       "      <td>4</td>\n",
       "      <td>2</td>\n",
       "      <td>health</td>\n",
       "      <td>services</td>\n",
       "      <td>...</td>\n",
       "      <td>yes</td>\n",
       "      <td>yes</td>\n",
       "      <td>yes</td>\n",
       "      <td>yes</td>\n",
       "      <td>3</td>\n",
       "      <td>2</td>\n",
       "      <td>2</td>\n",
       "      <td>1</td>\n",
       "      <td>1</td>\n",
       "      <td>5</td>\n",
       "    </tr>\n",
       "    <tr>\n",
       "      <th>4</th>\n",
       "      <td>GP</td>\n",
       "      <td>F</td>\n",
       "      <td>16</td>\n",
       "      <td>U</td>\n",
       "      <td>GT3</td>\n",
       "      <td>T</td>\n",
       "      <td>3</td>\n",
       "      <td>3</td>\n",
       "      <td>other</td>\n",
       "      <td>other</td>\n",
       "      <td>...</td>\n",
       "      <td>yes</td>\n",
       "      <td>yes</td>\n",
       "      <td>no</td>\n",
       "      <td>no</td>\n",
       "      <td>4</td>\n",
       "      <td>3</td>\n",
       "      <td>2</td>\n",
       "      <td>1</td>\n",
       "      <td>2</td>\n",
       "      <td>5</td>\n",
       "    </tr>\n",
       "    <tr>\n",
       "      <th>...</th>\n",
       "      <td>...</td>\n",
       "      <td>...</td>\n",
       "      <td>...</td>\n",
       "      <td>...</td>\n",
       "      <td>...</td>\n",
       "      <td>...</td>\n",
       "      <td>...</td>\n",
       "      <td>...</td>\n",
       "      <td>...</td>\n",
       "      <td>...</td>\n",
       "      <td>...</td>\n",
       "      <td>...</td>\n",
       "      <td>...</td>\n",
       "      <td>...</td>\n",
       "      <td>...</td>\n",
       "      <td>...</td>\n",
       "      <td>...</td>\n",
       "      <td>...</td>\n",
       "      <td>...</td>\n",
       "      <td>...</td>\n",
       "      <td>...</td>\n",
       "    </tr>\n",
       "    <tr>\n",
       "      <th>644</th>\n",
       "      <td>MS</td>\n",
       "      <td>F</td>\n",
       "      <td>19</td>\n",
       "      <td>R</td>\n",
       "      <td>GT3</td>\n",
       "      <td>T</td>\n",
       "      <td>2</td>\n",
       "      <td>3</td>\n",
       "      <td>services</td>\n",
       "      <td>other</td>\n",
       "      <td>...</td>\n",
       "      <td>no</td>\n",
       "      <td>yes</td>\n",
       "      <td>yes</td>\n",
       "      <td>no</td>\n",
       "      <td>5</td>\n",
       "      <td>4</td>\n",
       "      <td>2</td>\n",
       "      <td>1</td>\n",
       "      <td>2</td>\n",
       "      <td>5</td>\n",
       "    </tr>\n",
       "    <tr>\n",
       "      <th>645</th>\n",
       "      <td>MS</td>\n",
       "      <td>F</td>\n",
       "      <td>18</td>\n",
       "      <td>U</td>\n",
       "      <td>LE3</td>\n",
       "      <td>T</td>\n",
       "      <td>3</td>\n",
       "      <td>1</td>\n",
       "      <td>teacher</td>\n",
       "      <td>services</td>\n",
       "      <td>...</td>\n",
       "      <td>yes</td>\n",
       "      <td>yes</td>\n",
       "      <td>yes</td>\n",
       "      <td>no</td>\n",
       "      <td>4</td>\n",
       "      <td>3</td>\n",
       "      <td>4</td>\n",
       "      <td>1</td>\n",
       "      <td>1</td>\n",
       "      <td>1</td>\n",
       "    </tr>\n",
       "    <tr>\n",
       "      <th>646</th>\n",
       "      <td>MS</td>\n",
       "      <td>F</td>\n",
       "      <td>18</td>\n",
       "      <td>U</td>\n",
       "      <td>GT3</td>\n",
       "      <td>T</td>\n",
       "      <td>1</td>\n",
       "      <td>1</td>\n",
       "      <td>other</td>\n",
       "      <td>other</td>\n",
       "      <td>...</td>\n",
       "      <td>yes</td>\n",
       "      <td>yes</td>\n",
       "      <td>no</td>\n",
       "      <td>no</td>\n",
       "      <td>1</td>\n",
       "      <td>1</td>\n",
       "      <td>1</td>\n",
       "      <td>1</td>\n",
       "      <td>1</td>\n",
       "      <td>5</td>\n",
       "    </tr>\n",
       "    <tr>\n",
       "      <th>647</th>\n",
       "      <td>MS</td>\n",
       "      <td>M</td>\n",
       "      <td>17</td>\n",
       "      <td>U</td>\n",
       "      <td>LE3</td>\n",
       "      <td>T</td>\n",
       "      <td>3</td>\n",
       "      <td>1</td>\n",
       "      <td>services</td>\n",
       "      <td>services</td>\n",
       "      <td>...</td>\n",
       "      <td>no</td>\n",
       "      <td>yes</td>\n",
       "      <td>yes</td>\n",
       "      <td>no</td>\n",
       "      <td>2</td>\n",
       "      <td>4</td>\n",
       "      <td>5</td>\n",
       "      <td>3</td>\n",
       "      <td>4</td>\n",
       "      <td>2</td>\n",
       "    </tr>\n",
       "    <tr>\n",
       "      <th>648</th>\n",
       "      <td>MS</td>\n",
       "      <td>M</td>\n",
       "      <td>18</td>\n",
       "      <td>R</td>\n",
       "      <td>LE3</td>\n",
       "      <td>T</td>\n",
       "      <td>3</td>\n",
       "      <td>2</td>\n",
       "      <td>services</td>\n",
       "      <td>other</td>\n",
       "      <td>...</td>\n",
       "      <td>no</td>\n",
       "      <td>yes</td>\n",
       "      <td>yes</td>\n",
       "      <td>no</td>\n",
       "      <td>4</td>\n",
       "      <td>4</td>\n",
       "      <td>1</td>\n",
       "      <td>3</td>\n",
       "      <td>4</td>\n",
       "      <td>5</td>\n",
       "    </tr>\n",
       "  </tbody>\n",
       "</table>\n",
       "<p>627 rows × 29 columns</p>\n",
       "</div>"
      ],
      "text/plain": [
       "    school sex  age address famsize Pstatus  Medu  Fedu      Mjob      Fjob  \\\n",
       "0       GP   F   18       U     GT3       A     4     4   at_home   teacher   \n",
       "1       GP   F   17       U     GT3       T     1     1   at_home     other   \n",
       "2       GP   F   15       U     LE3       T     1     1   at_home     other   \n",
       "3       GP   F   15       U     GT3       T     4     2    health  services   \n",
       "4       GP   F   16       U     GT3       T     3     3     other     other   \n",
       "..     ...  ..  ...     ...     ...     ...   ...   ...       ...       ...   \n",
       "644     MS   F   19       R     GT3       T     2     3  services     other   \n",
       "645     MS   F   18       U     LE3       T     3     1   teacher  services   \n",
       "646     MS   F   18       U     GT3       T     1     1     other     other   \n",
       "647     MS   M   17       U     LE3       T     3     1  services  services   \n",
       "648     MS   M   18       R     LE3       T     3     2  services     other   \n",
       "\n",
       "     ... nursery higher  internet  romantic  famrel freetime goout Dalc Walc  \\\n",
       "0    ...     yes    yes        no        no       4        3     4    1    1   \n",
       "1    ...      no    yes       yes        no       5        3     3    1    1   \n",
       "2    ...     yes    yes       yes        no       4        3     2    2    3   \n",
       "3    ...     yes    yes       yes       yes       3        2     2    1    1   \n",
       "4    ...     yes    yes        no        no       4        3     2    1    2   \n",
       "..   ...     ...    ...       ...       ...     ...      ...   ...  ...  ...   \n",
       "644  ...      no    yes       yes        no       5        4     2    1    2   \n",
       "645  ...     yes    yes       yes        no       4        3     4    1    1   \n",
       "646  ...     yes    yes        no        no       1        1     1    1    1   \n",
       "647  ...      no    yes       yes        no       2        4     5    3    4   \n",
       "648  ...      no    yes       yes        no       4        4     1    3    4   \n",
       "\n",
       "    health  \n",
       "0        3  \n",
       "1        3  \n",
       "2        3  \n",
       "3        5  \n",
       "4        5  \n",
       "..     ...  \n",
       "644      5  \n",
       "645      1  \n",
       "646      5  \n",
       "647      2  \n",
       "648      5  \n",
       "\n",
       "[627 rows x 29 columns]"
      ]
     },
     "execution_count": 31,
     "metadata": {},
     "output_type": "execute_result"
    }
   ],
   "source": [
    "X"
   ]
  },
  {
   "cell_type": "code",
   "execution_count": 32,
   "metadata": {},
   "outputs": [
    {
     "data": {
      "text/plain": [
       "0      4\n",
       "1      2\n",
       "2      6\n",
       "3      0\n",
       "4      0\n",
       "      ..\n",
       "644    4\n",
       "645    4\n",
       "646    6\n",
       "647    6\n",
       "648    4\n",
       "Name: absences, Length: 627, dtype: int64"
      ]
     },
     "execution_count": 32,
     "metadata": {},
     "output_type": "execute_result"
    }
   ],
   "source": [
    "y"
   ]
  },
  {
   "cell_type": "code",
   "execution_count": 33,
   "metadata": {
    "executionInfo": {
     "elapsed": 3,
     "status": "ok",
     "timestamp": 1711440299476,
     "user": {
      "displayName": "Saikumarreddy N",
      "userId": "04083008778842655593"
     },
     "user_tz": -330
    },
    "id": "Ivy_wXNTyF_J"
   },
   "outputs": [],
   "source": [
    "from sklearn.model_selection import train_test_split\n",
    "# Create train and test splits\n",
    "X_train, X_test, y_train, y_test = train_test_split(X, y, test_size=0.25, random_state=42)"
   ]
  },
  {
   "cell_type": "markdown",
   "metadata": {
    "id": "Pjrlml2iyqap"
   },
   "source": [
    "## Encoding Data"
   ]
  },
  {
   "cell_type": "code",
   "execution_count": 34,
   "metadata": {
    "executionInfo": {
     "elapsed": 369,
     "status": "ok",
     "timestamp": 1711440361348,
     "user": {
      "displayName": "Saikumarreddy N",
      "userId": "04083008778842655593"
     },
     "user_tz": -330
    },
    "id": "xJWJ8FNwyH55"
   },
   "outputs": [],
   "source": [
    "# First we need to know which columns are binary, nominal and numerical\n",
    "def get_columns_by_category():\n",
    "    categorical_mask = X.select_dtypes(\n",
    "        include=['object']).apply(pd.Series.nunique) == 2\n",
    "    numerical_mask = X.select_dtypes(\n",
    "        include=['int64', 'float64']).apply(pd.Series.nunique) > 5\n",
    "\n",
    "    binary_columns = X[categorical_mask.index[categorical_mask]].columns\n",
    "    nominal_columns = X[categorical_mask.index[~categorical_mask]].columns\n",
    "    numerical_columns = X[numerical_mask.index[numerical_mask]].columns\n",
    "\n",
    "    return binary_columns, nominal_columns, numerical_columns"
   ]
  },
  {
   "cell_type": "code",
   "execution_count": 35,
   "metadata": {
    "executionInfo": {
     "elapsed": 355,
     "status": "ok",
     "timestamp": 1711440373252,
     "user": {
      "displayName": "Saikumarreddy N",
      "userId": "04083008778842655593"
     },
     "user_tz": -330
    },
    "id": "0Uwmhusgy3JN"
   },
   "outputs": [],
   "source": [
    "binary_columns, nominal_columns, numerical_columns = get_columns_by_category()"
   ]
  },
  {
   "cell_type": "code",
   "execution_count": 36,
   "metadata": {
    "colab": {
     "base_uri": "https://localhost:8080/"
    },
    "executionInfo": {
     "elapsed": 393,
     "status": "ok",
     "timestamp": 1711440379853,
     "user": {
      "displayName": "Saikumarreddy N",
      "userId": "04083008778842655593"
     },
     "user_tz": -330
    },
    "id": "5_gCgWqfy6Ja",
    "outputId": "4e76209a-93f2-4f8d-94e4-3886e03dd139"
   },
   "outputs": [
    {
     "data": {
      "text/plain": [
       "Index(['school', 'sex', 'address', 'famsize', 'Pstatus', 'schoolsup', 'famsup',\n",
       "       'paid', 'activities', 'nursery', 'higher', 'internet', 'romantic'],\n",
       "      dtype='object')"
      ]
     },
     "execution_count": 36,
     "metadata": {},
     "output_type": "execute_result"
    }
   ],
   "source": [
    "binary_columns"
   ]
  },
  {
   "cell_type": "code",
   "execution_count": 37,
   "metadata": {
    "executionInfo": {
     "elapsed": 5,
     "status": "ok",
     "timestamp": 1711440488664,
     "user": {
      "displayName": "Saikumarreddy N",
      "userId": "04083008778842655593"
     },
     "user_tz": -330
    },
    "id": "XIuDIZ76y7rz"
   },
   "outputs": [],
   "source": [
    "from sklearn.compose import ColumnTransformer\n",
    "from sklearn.preprocessing import OrdinalEncoder, StandardScaler, OneHotEncoder\n",
    "# Now we can create a column transformer pipeline\n",
    "transformers = [('binary', OrdinalEncoder(), binary_columns),\n",
    "                ('nominal', OneHotEncoder(), nominal_columns),\n",
    "                ('numerical', StandardScaler(), numerical_columns)]\n",
    "\n",
    "transformer_pipeline = ColumnTransformer(transformers, remainder='passthrough')"
   ]
  },
  {
   "cell_type": "code",
   "execution_count": 40,
   "metadata": {
    "colab": {
     "base_uri": "https://localhost:8080/",
     "height": 118
    },
    "executionInfo": {
     "elapsed": 372,
     "status": "ok",
     "timestamp": 1711440505378,
     "user": {
      "displayName": "Saikumarreddy N",
      "userId": "04083008778842655593"
     },
     "user_tz": -330
    },
    "id": "O_sJHJhTzWKJ",
    "outputId": "208d8a21-16c4-4fbc-fafb-2183b1432bcf"
   },
   "outputs": [
    {
     "data": {
      "text/html": [
       "<style>#sk-container-id-2 {color: black;background-color: white;}#sk-container-id-2 pre{padding: 0;}#sk-container-id-2 div.sk-toggleable {background-color: white;}#sk-container-id-2 label.sk-toggleable__label {cursor: pointer;display: block;width: 100%;margin-bottom: 0;padding: 0.3em;box-sizing: border-box;text-align: center;}#sk-container-id-2 label.sk-toggleable__label-arrow:before {content: \"▸\";float: left;margin-right: 0.25em;color: #696969;}#sk-container-id-2 label.sk-toggleable__label-arrow:hover:before {color: black;}#sk-container-id-2 div.sk-estimator:hover label.sk-toggleable__label-arrow:before {color: black;}#sk-container-id-2 div.sk-toggleable__content {max-height: 0;max-width: 0;overflow: hidden;text-align: left;background-color: #f0f8ff;}#sk-container-id-2 div.sk-toggleable__content pre {margin: 0.2em;color: black;border-radius: 0.25em;background-color: #f0f8ff;}#sk-container-id-2 input.sk-toggleable__control:checked~div.sk-toggleable__content {max-height: 200px;max-width: 100%;overflow: auto;}#sk-container-id-2 input.sk-toggleable__control:checked~label.sk-toggleable__label-arrow:before {content: \"▾\";}#sk-container-id-2 div.sk-estimator input.sk-toggleable__control:checked~label.sk-toggleable__label {background-color: #d4ebff;}#sk-container-id-2 div.sk-label input.sk-toggleable__control:checked~label.sk-toggleable__label {background-color: #d4ebff;}#sk-container-id-2 input.sk-hidden--visually {border: 0;clip: rect(1px 1px 1px 1px);clip: rect(1px, 1px, 1px, 1px);height: 1px;margin: -1px;overflow: hidden;padding: 0;position: absolute;width: 1px;}#sk-container-id-2 div.sk-estimator {font-family: monospace;background-color: #f0f8ff;border: 1px dotted black;border-radius: 0.25em;box-sizing: border-box;margin-bottom: 0.5em;}#sk-container-id-2 div.sk-estimator:hover {background-color: #d4ebff;}#sk-container-id-2 div.sk-parallel-item::after {content: \"\";width: 100%;border-bottom: 1px solid gray;flex-grow: 1;}#sk-container-id-2 div.sk-label:hover label.sk-toggleable__label {background-color: #d4ebff;}#sk-container-id-2 div.sk-serial::before {content: \"\";position: absolute;border-left: 1px solid gray;box-sizing: border-box;top: 0;bottom: 0;left: 50%;z-index: 0;}#sk-container-id-2 div.sk-serial {display: flex;flex-direction: column;align-items: center;background-color: white;padding-right: 0.2em;padding-left: 0.2em;position: relative;}#sk-container-id-2 div.sk-item {position: relative;z-index: 1;}#sk-container-id-2 div.sk-parallel {display: flex;align-items: stretch;justify-content: center;background-color: white;position: relative;}#sk-container-id-2 div.sk-item::before, #sk-container-id-2 div.sk-parallel-item::before {content: \"\";position: absolute;border-left: 1px solid gray;box-sizing: border-box;top: 0;bottom: 0;left: 50%;z-index: -1;}#sk-container-id-2 div.sk-parallel-item {display: flex;flex-direction: column;z-index: 1;position: relative;background-color: white;}#sk-container-id-2 div.sk-parallel-item:first-child::after {align-self: flex-end;width: 50%;}#sk-container-id-2 div.sk-parallel-item:last-child::after {align-self: flex-start;width: 50%;}#sk-container-id-2 div.sk-parallel-item:only-child::after {width: 0;}#sk-container-id-2 div.sk-dashed-wrapped {border: 1px dashed gray;margin: 0 0.4em 0.5em 0.4em;box-sizing: border-box;padding-bottom: 0.4em;background-color: white;}#sk-container-id-2 div.sk-label label {font-family: monospace;font-weight: bold;display: inline-block;line-height: 1.2em;}#sk-container-id-2 div.sk-label-container {text-align: center;}#sk-container-id-2 div.sk-container {/* jupyter's `normalize.less` sets `[hidden] { display: none; }` but bootstrap.min.css set `[hidden] { display: none !important; }` so we also need the `!important` here to be able to override the default hidden behavior on the sphinx rendered scikit-learn.org. See: https://github.com/scikit-learn/scikit-learn/issues/21755 */display: inline-block !important;position: relative;}#sk-container-id-2 div.sk-text-repr-fallback {display: none;}</style><div id=\"sk-container-id-2\" class=\"sk-top-container\"><div class=\"sk-text-repr-fallback\"><pre>ColumnTransformer(remainder=&#x27;passthrough&#x27;,\n",
       "                  transformers=[(&#x27;binary&#x27;, OrdinalEncoder(),\n",
       "                                 Index([&#x27;school&#x27;, &#x27;sex&#x27;, &#x27;address&#x27;, &#x27;famsize&#x27;, &#x27;Pstatus&#x27;, &#x27;schoolsup&#x27;, &#x27;famsup&#x27;,\n",
       "       &#x27;paid&#x27;, &#x27;activities&#x27;, &#x27;nursery&#x27;, &#x27;higher&#x27;, &#x27;internet&#x27;, &#x27;romantic&#x27;],\n",
       "      dtype=&#x27;object&#x27;)),\n",
       "                                (&#x27;nominal&#x27;, OneHotEncoder(),\n",
       "                                 Index([&#x27;Mjob&#x27;, &#x27;Fjob&#x27;, &#x27;reason&#x27;, &#x27;guardian&#x27;], dtype=&#x27;object&#x27;)),\n",
       "                                (&#x27;numerical&#x27;, StandardScaler(),\n",
       "                                 Index([&#x27;age&#x27;], dtype=&#x27;object&#x27;))])</pre><b>In a Jupyter environment, please rerun this cell to show the HTML representation or trust the notebook. <br />On GitHub, the HTML representation is unable to render, please try loading this page with nbviewer.org.</b></div><div class=\"sk-container\" hidden><div class=\"sk-item sk-dashed-wrapped\"><div class=\"sk-label-container\"><div class=\"sk-label sk-toggleable\"><input class=\"sk-toggleable__control sk-hidden--visually\" id=\"sk-estimator-id-10\" type=\"checkbox\" ><label for=\"sk-estimator-id-10\" class=\"sk-toggleable__label sk-toggleable__label-arrow\">ColumnTransformer</label><div class=\"sk-toggleable__content\"><pre>ColumnTransformer(remainder=&#x27;passthrough&#x27;,\n",
       "                  transformers=[(&#x27;binary&#x27;, OrdinalEncoder(),\n",
       "                                 Index([&#x27;school&#x27;, &#x27;sex&#x27;, &#x27;address&#x27;, &#x27;famsize&#x27;, &#x27;Pstatus&#x27;, &#x27;schoolsup&#x27;, &#x27;famsup&#x27;,\n",
       "       &#x27;paid&#x27;, &#x27;activities&#x27;, &#x27;nursery&#x27;, &#x27;higher&#x27;, &#x27;internet&#x27;, &#x27;romantic&#x27;],\n",
       "      dtype=&#x27;object&#x27;)),\n",
       "                                (&#x27;nominal&#x27;, OneHotEncoder(),\n",
       "                                 Index([&#x27;Mjob&#x27;, &#x27;Fjob&#x27;, &#x27;reason&#x27;, &#x27;guardian&#x27;], dtype=&#x27;object&#x27;)),\n",
       "                                (&#x27;numerical&#x27;, StandardScaler(),\n",
       "                                 Index([&#x27;age&#x27;], dtype=&#x27;object&#x27;))])</pre></div></div></div><div class=\"sk-parallel\"><div class=\"sk-parallel-item\"><div class=\"sk-item\"><div class=\"sk-label-container\"><div class=\"sk-label sk-toggleable\"><input class=\"sk-toggleable__control sk-hidden--visually\" id=\"sk-estimator-id-11\" type=\"checkbox\" ><label for=\"sk-estimator-id-11\" class=\"sk-toggleable__label sk-toggleable__label-arrow\">binary</label><div class=\"sk-toggleable__content\"><pre>Index([&#x27;school&#x27;, &#x27;sex&#x27;, &#x27;address&#x27;, &#x27;famsize&#x27;, &#x27;Pstatus&#x27;, &#x27;schoolsup&#x27;, &#x27;famsup&#x27;,\n",
       "       &#x27;paid&#x27;, &#x27;activities&#x27;, &#x27;nursery&#x27;, &#x27;higher&#x27;, &#x27;internet&#x27;, &#x27;romantic&#x27;],\n",
       "      dtype=&#x27;object&#x27;)</pre></div></div></div><div class=\"sk-serial\"><div class=\"sk-item\"><div class=\"sk-estimator sk-toggleable\"><input class=\"sk-toggleable__control sk-hidden--visually\" id=\"sk-estimator-id-12\" type=\"checkbox\" ><label for=\"sk-estimator-id-12\" class=\"sk-toggleable__label sk-toggleable__label-arrow\">OrdinalEncoder</label><div class=\"sk-toggleable__content\"><pre>OrdinalEncoder()</pre></div></div></div></div></div></div><div class=\"sk-parallel-item\"><div class=\"sk-item\"><div class=\"sk-label-container\"><div class=\"sk-label sk-toggleable\"><input class=\"sk-toggleable__control sk-hidden--visually\" id=\"sk-estimator-id-13\" type=\"checkbox\" ><label for=\"sk-estimator-id-13\" class=\"sk-toggleable__label sk-toggleable__label-arrow\">nominal</label><div class=\"sk-toggleable__content\"><pre>Index([&#x27;Mjob&#x27;, &#x27;Fjob&#x27;, &#x27;reason&#x27;, &#x27;guardian&#x27;], dtype=&#x27;object&#x27;)</pre></div></div></div><div class=\"sk-serial\"><div class=\"sk-item\"><div class=\"sk-estimator sk-toggleable\"><input class=\"sk-toggleable__control sk-hidden--visually\" id=\"sk-estimator-id-14\" type=\"checkbox\" ><label for=\"sk-estimator-id-14\" class=\"sk-toggleable__label sk-toggleable__label-arrow\">OneHotEncoder</label><div class=\"sk-toggleable__content\"><pre>OneHotEncoder()</pre></div></div></div></div></div></div><div class=\"sk-parallel-item\"><div class=\"sk-item\"><div class=\"sk-label-container\"><div class=\"sk-label sk-toggleable\"><input class=\"sk-toggleable__control sk-hidden--visually\" id=\"sk-estimator-id-15\" type=\"checkbox\" ><label for=\"sk-estimator-id-15\" class=\"sk-toggleable__label sk-toggleable__label-arrow\">numerical</label><div class=\"sk-toggleable__content\"><pre>Index([&#x27;age&#x27;], dtype=&#x27;object&#x27;)</pre></div></div></div><div class=\"sk-serial\"><div class=\"sk-item\"><div class=\"sk-estimator sk-toggleable\"><input class=\"sk-toggleable__control sk-hidden--visually\" id=\"sk-estimator-id-16\" type=\"checkbox\" ><label for=\"sk-estimator-id-16\" class=\"sk-toggleable__label sk-toggleable__label-arrow\">StandardScaler</label><div class=\"sk-toggleable__content\"><pre>StandardScaler()</pre></div></div></div></div></div></div><div class=\"sk-parallel-item\"><div class=\"sk-item\"><div class=\"sk-label-container\"><div class=\"sk-label sk-toggleable\"><input class=\"sk-toggleable__control sk-hidden--visually\" id=\"sk-estimator-id-17\" type=\"checkbox\" ><label for=\"sk-estimator-id-17\" class=\"sk-toggleable__label sk-toggleable__label-arrow\">remainder</label><div class=\"sk-toggleable__content\"><pre></pre></div></div></div><div class=\"sk-serial\"><div class=\"sk-item\"><div class=\"sk-estimator sk-toggleable\"><input class=\"sk-toggleable__control sk-hidden--visually\" id=\"sk-estimator-id-18\" type=\"checkbox\" ><label for=\"sk-estimator-id-18\" class=\"sk-toggleable__label sk-toggleable__label-arrow\">passthrough</label><div class=\"sk-toggleable__content\"><pre>passthrough</pre></div></div></div></div></div></div></div></div></div></div>"
      ],
      "text/plain": [
       "ColumnTransformer(remainder='passthrough',\n",
       "                  transformers=[('binary', OrdinalEncoder(),\n",
       "                                 Index(['school', 'sex', 'address', 'famsize', 'Pstatus', 'schoolsup', 'famsup',\n",
       "       'paid', 'activities', 'nursery', 'higher', 'internet', 'romantic'],\n",
       "      dtype='object')),\n",
       "                                ('nominal', OneHotEncoder(),\n",
       "                                 Index(['Mjob', 'Fjob', 'reason', 'guardian'], dtype='object')),\n",
       "                                ('numerical', StandardScaler(),\n",
       "                                 Index(['age'], dtype='object'))])"
      ]
     },
     "execution_count": 40,
     "metadata": {},
     "output_type": "execute_result"
    }
   ],
   "source": [
    "transformer_pipeline"
   ]
  },
  {
   "cell_type": "code",
   "execution_count": 39,
   "metadata": {
    "id": "3xRIPKH1zaYK"
   },
   "outputs": [],
   "source": [
    "# So now according to columns we have performed transformations. now finally we can go with model training."
   ]
  },
  {
   "cell_type": "code",
   "execution_count": null,
   "metadata": {},
   "outputs": [],
   "source": []
  },
  {
   "cell_type": "raw",
   "metadata": {},
   "source": []
  },
  {
   "cell_type": "raw",
   "metadata": {},
   "source": []
  },
  {
   "cell_type": "code",
   "execution_count": null,
   "metadata": {},
   "outputs": [],
   "source": []
  },
  {
   "cell_type": "code",
   "execution_count": null,
   "metadata": {},
   "outputs": [],
   "source": []
  },
  {
   "cell_type": "code",
   "execution_count": null,
   "metadata": {},
   "outputs": [],
   "source": []
  },
  {
   "cell_type": "code",
   "execution_count": null,
   "metadata": {},
   "outputs": [],
   "source": []
  },
  {
   "cell_type": "code",
   "execution_count": null,
   "metadata": {},
   "outputs": [],
   "source": []
  }
 ],
 "metadata": {
  "colab": {
   "provenance": []
  },
  "kernelspec": {
   "display_name": "Python 3 (ipykernel)",
   "language": "python",
   "name": "python3"
  },
  "language_info": {
   "codemirror_mode": {
    "name": "ipython",
    "version": 3
   },
   "file_extension": ".py",
   "mimetype": "text/x-python",
   "name": "python",
   "nbconvert_exporter": "python",
   "pygments_lexer": "ipython3",
   "version": "3.11.7"
  }
 },
 "nbformat": 4,
 "nbformat_minor": 4
}
