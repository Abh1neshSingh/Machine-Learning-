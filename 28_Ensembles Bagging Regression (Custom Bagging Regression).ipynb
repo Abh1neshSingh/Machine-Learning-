{
 "cells": [
  {
   "cell_type": "code",
   "execution_count": 1,
   "id": "db33f56b-6870-4d3b-923e-660ef9431dea",
   "metadata": {},
   "outputs": [],
   "source": [
    "from sklearn.datasets import make_regression\n",
    "from sklearn.model_selection import train_test_split\n",
    "\n",
    "X,y = make_regression(n_samples=1000, n_features=10, noise=0.1, random_state=1)"
   ]
  },
  {
   "cell_type": "code",
   "execution_count": 2,
   "id": "216c14e4-abc9-43be-8269-0858a5b84c28",
   "metadata": {},
   "outputs": [
    {
     "data": {
      "text/plain": [
       "array([[-1.24634541, -2.3575232 ,  0.60972409, ..., -1.25935848,\n",
       "        -0.11048061,  0.46983129],\n",
       "       [-0.68085157, -1.06787658,  0.57296273, ..., -0.01781755,\n",
       "         0.45794708, -0.6001388 ],\n",
       "       [-0.14894123,  1.16533544, -0.63259014, ...,  1.89716069,\n",
       "        -0.20984695, -1.38139115],\n",
       "       ...,\n",
       "       [ 1.32960903, -1.08278525,  0.44347873, ..., -0.48363166,\n",
       "         0.01880501,  0.56264832],\n",
       "       [ 1.03703898,  0.67261975,  1.00568668, ...,  0.61472628,\n",
       "         0.35356722, -0.34898419],\n",
       "       [ 0.438562  ,  0.92781985,  0.72667997, ..., -1.09330391,\n",
       "        -0.37195994,  0.22445073]])"
      ]
     },
     "execution_count": 2,
     "metadata": {},
     "output_type": "execute_result"
    }
   ],
   "source": [
    "X"
   ]
  },
  {
   "cell_type": "code",
   "execution_count": 3,
   "id": "135c41fb-ca34-4145-b04a-03e51b3cda15",
   "metadata": {},
   "outputs": [
    {
     "data": {
      "text/plain": [
       "array([-1.29703788e+02, -1.80999622e+01, -2.48373532e+02, -5.47790773e+01,\n",
       "        2.53389312e+01,  1.64353500e+01, -1.62379961e+02,  8.68801965e+01,\n",
       "       -3.03384035e+01, -1.99726617e+02, -1.13506241e+02, -1.90063912e+02,\n",
       "       -1.87538897e+02,  1.72228819e+02,  6.16386076e+01, -3.56835616e+02,\n",
       "        8.24251916e+01,  1.61358017e+02,  1.52957393e+02,  5.00424227e+02,\n",
       "        1.21062317e+02,  4.95831180e+01, -1.77278355e+02, -2.49458193e+01,\n",
       "       -1.65450348e+02,  4.18445290e+01, -6.76893860e+01, -6.46220878e+01,\n",
       "       -1.11488894e+02,  2.30651763e+02,  2.56645774e+02, -1.84174552e+02,\n",
       "        2.98886683e+02, -2.73732404e+01,  4.17040920e+02,  1.01523419e+02,\n",
       "       -1.23009941e+02,  3.56833517e+02, -1.71822143e+02,  3.61894176e+02,\n",
       "        1.97745189e+02, -1.85490215e+02,  1.36198413e+02, -3.26485048e+02,\n",
       "       -1.14069731e+02,  4.77747550e+01,  1.62640400e+02,  9.41057983e+01,\n",
       "       -4.16816637e+01, -5.20442942e+01,  3.44121608e+02,  1.04900656e+02,\n",
       "       -2.01206138e+02, -6.18739502e+01, -1.26832746e+02,  3.35722721e+01,\n",
       "       -6.75223743e+01, -6.33169264e+01, -1.47269862e+02, -3.25345400e+01,\n",
       "        1.03721542e+02,  2.96901495e+02,  7.32408196e+01, -1.12217626e+02,\n",
       "       -1.48522737e+02, -1.26649552e+02, -1.46111353e+02, -2.37932880e+02,\n",
       "        3.22497616e+01, -9.24138147e+01, -1.31153721e+02,  1.92480420e+02,\n",
       "        1.20199779e+02,  9.05112381e+01,  1.07212245e+02, -7.67602158e+01,\n",
       "       -1.33113584e+02, -1.12027716e+02,  4.93214843e+01, -1.38549166e+01,\n",
       "        2.25687409e+02,  3.14536339e+01, -2.26388220e+02, -1.93188643e+02,\n",
       "       -1.47505863e+02, -1.30876630e+02, -1.32053337e+01,  9.06060018e+01,\n",
       "       -1.31517609e+02, -1.23708083e+02,  1.02052952e+02, -1.63036261e+02,\n",
       "        9.26584501e+01,  3.66588313e+01,  5.72789464e+01, -2.28195681e+02,\n",
       "       -9.28374670e+00,  1.31446834e+02, -1.18007420e+02,  1.24812753e+01,\n",
       "       -1.19977823e+02, -2.24045020e+02,  2.06901509e+02,  1.01491012e+01,\n",
       "       -3.32584229e+02,  2.02285184e+02,  3.06028973e+01, -2.10848052e+02,\n",
       "        3.50870254e+02,  2.18851281e+02, -2.60652390e+02, -1.27614829e+02,\n",
       "       -2.09113701e+02,  8.77812492e+01, -1.20855684e+02, -1.02351777e+02,\n",
       "       -1.04730019e+02,  1.83251540e+02,  2.85644532e+02,  1.89514243e+02,\n",
       "       -2.21030872e+02,  9.18625417e+01, -1.00014437e+02,  2.58262719e+02,\n",
       "        1.90621362e+02, -3.99900418e+02, -5.27354993e+01,  2.74929281e+01,\n",
       "        4.25256708e+01, -3.16102147e+02, -1.05362829e+02, -1.93005336e+02,\n",
       "        6.00118267e+01, -1.52292735e+02, -1.48637110e+02,  5.90016708e+01,\n",
       "        1.10109476e+02, -2.39309434e+02,  1.29424070e+02,  2.74783131e+01,\n",
       "       -1.36416783e+02,  2.90527797e+02,  2.72536576e+01,  2.32762920e+01,\n",
       "       -5.16296848e+01,  1.56435542e+02,  5.34008842e+00,  3.15400425e+00,\n",
       "       -5.07603241e+01, -1.29036275e+02, -2.19680386e+01, -1.56697886e+02,\n",
       "        2.60882607e+02,  2.42580519e+02, -1.09644276e+02, -3.12832213e+02,\n",
       "       -5.41699794e+01,  9.54842037e+01,  2.24783031e+02,  3.92895225e+02,\n",
       "        2.26013235e+01, -1.29655603e+02,  7.92670626e+01, -1.21766454e+02,\n",
       "        1.11885823e+02,  8.96370914e+01,  1.96457071e+02,  3.54778192e+02,\n",
       "       -2.14494990e+01,  4.16115274e+01,  9.00992506e+01,  2.68336871e+02,\n",
       "        1.62517688e+02,  9.17310373e+01, -8.96443942e+00, -2.35420083e+00,\n",
       "       -5.07033362e+01, -2.59918629e+02,  6.65011723e+01, -3.43414941e+02,\n",
       "       -1.82664460e+02, -4.74294827e+02,  1.92636218e+02,  1.33434193e+02,\n",
       "       -1.14205038e+01,  1.32866466e+02, -5.86100736e+01,  1.15132557e+02,\n",
       "        1.43322655e+02, -2.08881333e+02,  7.46345951e+01, -8.19911494e+01,\n",
       "       -3.84264103e+02, -1.53338209e+02,  2.14591224e+02,  1.08340996e+02,\n",
       "       -1.25461389e+02,  2.54199584e+01,  3.80048333e+02,  4.98868140e+01,\n",
       "        1.02825606e+01, -4.88941302e+01, -2.50757005e+02, -1.14168170e+02,\n",
       "       -3.80522004e+02,  3.48999851e+00, -1.25714112e+02, -1.93763647e+02,\n",
       "       -1.07070159e+02,  1.84375543e+02,  2.10926105e+02, -5.48240777e+01,\n",
       "       -4.87744483e+02, -2.48586371e+02, -1.36055174e+02,  1.63412537e+02,\n",
       "        2.70069680e+01,  2.44595854e+02, -6.30056901e+01, -1.95465439e+02,\n",
       "        1.09539897e+02,  1.57618367e+02,  1.44201075e+02,  2.77756689e+01,\n",
       "       -1.18590028e+02, -4.18439678e+02, -3.90778492e+02,  1.61965008e+02,\n",
       "       -2.94560723e+02,  1.97666046e+02, -5.09957918e+01,  4.16477744e+02,\n",
       "       -2.59065264e+02,  1.27965295e+02,  5.46375950e+01, -7.22844550e+01,\n",
       "       -1.70646266e+01,  1.38200773e+02, -5.03008394e+02,  1.63296227e+02,\n",
       "       -8.06829055e+01, -2.59664788e+01,  5.59579428e+02, -2.75883631e+00,\n",
       "       -3.17496965e+01,  6.56530828e+01,  1.08658196e+02,  2.40800525e+02,\n",
       "        1.10880420e+02,  9.74918163e+01, -1.42097378e+02, -2.30892969e+02,\n",
       "       -2.41578766e+00, -4.16125922e+02,  2.10947415e+02, -9.47296754e+01,\n",
       "       -1.67330918e+02, -2.11708528e+02,  1.27405526e+02,  1.11132625e+02,\n",
       "       -3.50997799e+01,  2.32790590e+01,  7.03070221e+01, -1.67706543e+02,\n",
       "       -4.92960769e+02,  2.72758180e+01,  2.77430105e+02, -2.61591804e+01,\n",
       "        2.87551236e+00,  3.30274427e+02,  2.33704331e+02,  2.04220364e+02,\n",
       "        3.14291827e+02,  2.79701775e+02,  1.23425336e+02, -4.73428753e+02,\n",
       "       -7.67394927e+01,  2.58925149e+02,  1.31056777e+02, -2.11232815e+02,\n",
       "        5.81205522e+01, -1.67080108e+02, -9.98407255e+01,  8.00052171e+01,\n",
       "        7.84395399e+01,  4.11640145e+01,  1.73366262e+02, -1.74788083e+02,\n",
       "       -2.27665896e+02, -1.22102655e+02,  1.36718637e+02,  1.29145241e+01,\n",
       "        2.93180355e+02, -4.10321003e+02,  3.05793187e+02, -7.17747716e+01,\n",
       "       -1.07211266e+02,  8.33831223e+01,  4.56804294e+01, -4.55515370e+01,\n",
       "       -2.37321865e+01,  2.69642902e+02, -3.24629833e+02,  4.15892468e+01,\n",
       "       -2.84366868e+02, -2.90676957e+01,  6.32227396e+01,  5.02053761e+01,\n",
       "       -3.84720174e+02,  7.29045089e+01,  1.39510799e+02,  2.72773446e+02,\n",
       "       -2.28647848e+01, -8.46538003e+01, -1.96099448e+02,  1.80823007e+02,\n",
       "        3.34395201e+02,  1.03817390e+02, -5.72219133e+01,  3.21263114e+01,\n",
       "       -3.42712587e+01,  9.43676370e+01, -2.38505268e+02,  6.20250439e+01,\n",
       "       -4.10043513e+02,  9.62947290e+01,  1.73563006e+02, -1.56425785e+02,\n",
       "        3.48648163e+02, -2.71146185e+02,  6.15046419e+01,  4.01855995e+01,\n",
       "        1.54513314e+02,  9.36356870e+01, -2.21217365e+02, -1.24426112e+02,\n",
       "       -4.77839893e+01, -2.55262116e+02,  1.70123223e+02,  7.89280954e+01,\n",
       "       -1.72022246e+02,  3.46447353e+02, -5.06769208e+01, -7.55881783e+01,\n",
       "        8.51174892e+01, -1.15132172e+02,  3.29584537e+02, -2.32721114e+01,\n",
       "       -1.07402346e+01, -1.89682078e+01, -6.33839685e+01,  3.07605460e+02,\n",
       "        4.77545187e+01,  2.95501544e+02,  3.14579483e+02,  2.13946299e+02,\n",
       "        1.67742784e+02,  1.32562137e+02,  1.20220318e+02, -1.98806989e+02,\n",
       "        1.09948274e+02, -3.64473545e+02, -1.65027131e+02, -2.80659115e+02,\n",
       "       -1.13321616e+02, -6.71195311e+01,  5.71564455e+02, -1.22513378e+02,\n",
       "       -4.14167533e+01,  1.40296110e+02,  1.50450249e+01,  2.03722158e+01,\n",
       "       -6.34081824e+01,  2.09596462e+02,  7.95732878e+01, -2.39899543e+01,\n",
       "       -9.41704285e+01,  1.58364381e+02,  9.85887492e+01,  2.29074159e+02,\n",
       "        1.82397980e+02, -1.21042261e+01,  2.29585195e+01,  6.45742039e+01,\n",
       "       -4.41558235e+01, -1.02659784e+02,  3.23579543e+01,  4.15606924e+02,\n",
       "        2.30855975e+02, -6.53891014e+01,  8.96569874e+01, -6.93712514e+01,\n",
       "       -7.51087621e+01,  3.54492479e+02,  9.36925926e+01,  4.46631477e+02,\n",
       "        1.47935167e+02,  8.35262821e+01, -1.70156323e+02,  1.96367761e+01,\n",
       "       -2.04706370e+02,  4.58275597e+02, -1.05584552e+01, -1.41844148e+02,\n",
       "        1.51426806e+02,  6.05466699e+01, -2.11119500e+02, -3.05030411e+02,\n",
       "        1.47882490e+02, -3.66880110e+02, -1.70188108e+01, -6.64489037e+01,\n",
       "        2.08087277e+02, -1.91857486e+02,  8.70618275e+01,  1.08561172e+02,\n",
       "       -1.29109799e+02,  2.32318536e+02,  2.21520961e+02, -1.12162357e+02,\n",
       "        2.17917716e+02,  1.99047898e+02, -1.11980673e+02,  9.94113724e+01,\n",
       "       -3.40880632e+01,  3.12481116e+02, -2.48390267e+01,  5.75061542e+01,\n",
       "       -3.35148282e+02, -1.28692641e+02,  1.49825549e+01,  2.85823162e+02,\n",
       "       -1.37097390e+02,  4.44181026e+01, -2.96003122e+00, -3.17221173e+02,\n",
       "        2.83618424e+02, -1.75510015e+02, -2.23029277e+02,  1.93808777e+02,\n",
       "       -7.04917413e+01, -1.82237306e+02, -7.18691778e+01,  6.11762813e+01,\n",
       "        1.27034818e+02, -1.62650057e+02, -8.30637687e+01,  6.69198684e+01,\n",
       "        1.51861046e+02,  3.28912631e-01,  2.83397613e+02, -3.25414095e+01,\n",
       "       -1.69245448e+02,  1.67393138e+02, -2.24417894e+02,  6.16611524e+01,\n",
       "        2.45700501e+01,  1.55431041e+02,  4.30081428e+02, -6.42545298e+01,\n",
       "        4.25967229e+02,  1.41222400e+02,  2.86890054e+02,  4.52852480e+01,\n",
       "       -6.51871629e+01, -1.67876393e+02,  2.48305148e+01, -2.77372575e+02,\n",
       "        4.98110065e+01, -1.57862906e+02,  2.61189226e+01,  2.99532932e+01,\n",
       "       -1.42791536e+02, -1.19466609e+02, -5.17761285e+01,  3.24879240e+02,\n",
       "        1.59695165e+02,  1.26913254e+02, -1.12878943e+02, -2.00452534e+02,\n",
       "        1.06823212e+02, -2.00725474e+02, -1.01741331e+02, -1.76995165e+01,\n",
       "       -6.70432130e+01, -1.48933239e+02,  7.02921812e+01,  1.98358950e+02,\n",
       "        3.78181890e+02, -2.08417938e+02,  2.06578546e+02, -2.06599609e+01,\n",
       "        2.39548481e+02,  1.69144372e+02,  2.62021086e+02,  8.43971107e+01,\n",
       "       -1.16119918e+02, -8.21598983e+00,  1.75031936e+02, -1.09425134e+02,\n",
       "       -2.17551301e+00, -1.52760427e+02, -1.43585758e+02,  1.65464384e+02,\n",
       "        1.67263690e+02, -1.61140949e+02, -1.97193381e+02,  7.05342553e+01,\n",
       "        3.26378812e+02, -1.61871976e+02,  1.33806400e+02, -1.08924146e+02,\n",
       "        2.26249385e+02,  2.87673502e+02, -2.07642741e+02,  5.10072064e+00,\n",
       "        1.19011707e+02, -2.95914201e+01,  3.07554503e+02, -4.42267701e+00,\n",
       "       -1.36459083e+02, -1.97126079e+02, -3.30572415e+02, -7.10009881e+00,\n",
       "        8.54048815e+01,  5.90152283e+01, -7.85267309e+01, -9.43246215e+01,\n",
       "       -9.89259406e+01, -1.08357388e+02,  7.71758750e+01,  4.35368347e+01,\n",
       "        4.81785098e+01,  7.15394122e+01,  2.81765898e+02,  1.91251755e+02,\n",
       "        1.80282761e+02,  2.36851312e+02, -5.71067948e+01, -6.60020247e+01,\n",
       "        2.43356050e+02, -3.29673343e+02,  6.69035299e+01, -2.27842649e+02,\n",
       "        1.65941213e+02, -3.83957111e+01, -1.03335486e+02, -1.29584322e+02,\n",
       "        1.89999825e+02, -1.81348627e+02,  3.52320571e+02,  6.31580698e+01,\n",
       "        2.27347854e+02,  4.21136796e+02, -1.53378491e+02,  7.47634437e+01,\n",
       "       -3.70825765e+02, -2.22744789e+02, -1.29870770e+02,  3.47021382e+02,\n",
       "       -2.63208525e+02, -3.11417619e+01, -5.52778782e+01, -2.16062246e+01,\n",
       "        1.09198744e+02, -2.39972120e+02, -6.69104321e+01, -4.90883228e+01,\n",
       "        6.65108917e+00,  1.50309442e+02, -8.63058819e+01, -2.48357426e+02,\n",
       "        2.64215346e+01,  8.62572568e+01,  5.82479106e+01, -2.10305138e+02,\n",
       "        2.49328539e+02,  9.32996728e+01, -6.19512054e+01, -2.67598104e+02,\n",
       "        8.81270500e+01, -9.95686524e+01,  3.86823667e+02, -1.79327533e+02,\n",
       "       -1.76590480e+01, -4.07305813e+01,  5.59902015e+01,  1.47661474e+02,\n",
       "       -2.31055895e+02, -1.31073611e+02,  1.24301723e+02,  1.98382694e+02,\n",
       "       -1.85826710e+02, -1.18794686e+02, -5.59265731e+01, -3.33959802e+02,\n",
       "       -5.10314887e+02, -9.76123535e+01,  3.33326450e+02, -1.35119027e+02,\n",
       "       -1.18218254e+01, -9.63210136e+00, -8.25597850e+01,  3.06977584e+01,\n",
       "       -2.02991644e+02, -2.23013326e+02, -3.01997016e+02,  1.49087598e+02,\n",
       "       -1.61014375e+02,  3.61529773e+01,  1.82827133e+02, -3.82931719e+02,\n",
       "       -1.49448623e+02, -9.72098758e+01, -1.19335518e+02,  2.06307069e+01,\n",
       "        3.05031372e+01,  2.31446779e+02,  3.42777043e+02, -1.45714893e+02,\n",
       "       -1.99867350e+02, -4.05234296e+01,  2.51221381e+02,  4.24050670e+01,\n",
       "       -1.74400216e+01,  1.96165742e+02,  4.53715415e+01, -9.72855588e+01,\n",
       "        4.33963600e+00, -1.46732347e+02, -1.31789767e+02,  3.09322591e+02,\n",
       "       -1.59723327e+02, -1.28873102e+02,  1.62371656e+02,  3.37254883e+01,\n",
       "        3.70453237e+00, -4.42517106e+02,  2.69251880e+01, -2.55186904e+02,\n",
       "        1.53552108e+02, -1.58755074e+02,  6.01160166e+01, -1.52478514e+02,\n",
       "       -2.07188346e+02,  1.79579099e+02, -7.41497966e+01,  9.07416595e+01,\n",
       "        1.64346935e+02,  6.18567024e+01,  3.64718922e+01,  6.95377755e+01,\n",
       "       -5.69438279e+01, -2.59831390e+02, -3.08957774e+02, -5.34894940e+01,\n",
       "        2.52108623e+01,  3.69216897e+02, -1.51220708e+02,  6.05723239e+01,\n",
       "       -2.21491073e+02, -5.06042124e+01, -1.31267137e+02, -1.67124255e+01,\n",
       "        2.45509992e+02, -7.37971860e+00, -1.75808669e+02,  3.94050931e+02,\n",
       "       -8.35063572e+01,  2.71015139e+02, -2.60933896e+02,  3.18170112e+01,\n",
       "       -4.84459075e+01, -4.14589132e+01, -1.27233368e+02, -2.50010365e+01,\n",
       "       -2.28060220e+02,  5.01258714e+01,  1.79720137e+02,  7.20269546e+01,\n",
       "       -5.30071250e+01, -7.54761819e+01,  4.27712821e+01,  9.28065006e+01,\n",
       "       -8.65825621e+01,  5.37761658e+01, -4.93982000e+02,  8.28867257e+01,\n",
       "       -1.36007364e+02,  5.89384461e+01, -1.74005493e+02, -6.98224597e+01,\n",
       "       -1.55004472e+02, -2.34101775e+02, -1.44055657e+02, -2.21779841e+02,\n",
       "        1.64649595e+02, -5.19039462e+01,  6.16810666e+01,  3.57263864e+02,\n",
       "        3.53242387e+02, -1.71083506e+02, -5.07835400e+01,  4.34054742e+01,\n",
       "       -2.06841053e+02,  2.83711499e+01,  8.65282135e+01,  1.27198974e+01,\n",
       "       -1.38262073e+02,  5.30099963e+02, -1.68962931e+02, -1.66300006e+02,\n",
       "        2.96705633e+02,  2.71588865e+02, -1.49201559e+02, -1.73125243e+02,\n",
       "       -2.51067333e+02,  1.45295055e+02,  2.90933552e+02,  1.07384022e+02,\n",
       "        3.02713148e+01, -3.98139517e+02, -1.08203688e+02, -6.37529328e+00,\n",
       "       -1.63625920e+01, -5.21229879e+01, -2.77996141e+01, -1.91512423e+02,\n",
       "        1.54286198e+01,  7.13941172e+01, -1.14081513e+02, -7.36076644e+01,\n",
       "       -1.72324085e+02, -1.97429569e+02,  1.77380367e+02, -1.22347652e+02,\n",
       "       -2.60920838e+02, -7.07441453e+01,  8.21932742e+01,  2.83813114e+02,\n",
       "       -1.99929642e+02,  1.55424073e+02,  2.00239356e+02,  1.83620599e+02,\n",
       "        1.55845164e+02, -1.65427471e+02, -5.46354393e+01, -1.08894226e+02,\n",
       "        1.64101866e+02,  6.01956517e+01,  1.00655107e+02,  1.57878749e+02,\n",
       "       -1.92659286e+02,  2.12961187e+02,  2.51988105e+02, -1.58149198e+02,\n",
       "       -4.64380333e+01,  8.86467689e+01, -1.78087946e+02,  1.28635368e+02,\n",
       "        1.27711330e+02,  3.50773709e+01,  9.87308655e+00,  2.58971357e+01,\n",
       "       -2.29255094e+02,  1.23069783e+02, -8.81274308e+01,  1.71568900e+01,\n",
       "       -1.38797130e+02,  1.27645392e+02,  3.11097685e+02, -2.99683677e+02,\n",
       "        7.69974912e+01,  2.74445212e+01,  2.40433649e+02,  1.20419585e+02,\n",
       "        1.30178149e+02,  3.89770643e+02,  1.39831558e+02,  6.42268907e+01,\n",
       "        6.24558137e+01, -2.11072051e+02,  6.91071117e+01,  1.60560860e+02,\n",
       "        1.43912059e+02, -9.26981656e+01, -1.54100785e+02, -5.32939764e+01,\n",
       "       -1.03760373e+02, -3.11334379e+02,  1.26376302e+02,  7.90802826e+01,\n",
       "        3.26150315e+02, -2.73444190e+02, -1.54492656e+02, -9.01926149e+01,\n",
       "       -3.28281511e+02, -2.23914432e+02, -2.53396580e+02, -4.96861969e+02,\n",
       "        1.46995874e+02, -2.14365761e+02, -5.32684137e+00,  5.59262467e+01,\n",
       "        1.47986661e+02, -2.23225166e+02,  1.33929285e+01, -2.12067186e+02,\n",
       "       -1.77135770e+02, -1.88209389e+02,  3.21353569e+01,  3.34095534e+01,\n",
       "       -2.01532255e+02,  2.85672924e+02, -1.47939015e+02, -2.46556328e+02,\n",
       "        2.94381003e+01, -1.90333654e+01,  8.66071390e+01, -3.95088062e+02,\n",
       "        2.89127719e+02, -5.25858495e+01, -9.02006815e-01,  3.30758741e+02,\n",
       "        1.39754313e+02, -9.43213393e+01,  3.90567579e+01,  2.88353645e+02,\n",
       "        7.00958245e+01, -6.06320470e+01,  3.87432538e+01,  4.47325828e+01,\n",
       "       -1.87000077e+02,  1.15901855e+02, -6.74600232e+01, -1.94651081e+02,\n",
       "       -1.86659099e+02,  2.06542848e+02,  7.14818406e+01, -1.75041843e+01,\n",
       "        3.41976223e+01, -2.65250039e+02,  6.75409392e+01, -9.32739213e+01,\n",
       "        9.02797884e+01, -2.84832070e+02,  9.59118334e+01,  8.16696593e+01,\n",
       "        1.39232560e+02, -2.24502764e+02, -9.98994427e+01, -1.90227226e+02,\n",
       "        2.59498683e+02,  2.50597552e+02, -1.43566230e+02, -4.23931794e+01,\n",
       "        2.40167423e+02, -2.00658335e+02,  1.94002932e+02,  1.60240703e+01,\n",
       "        5.50766411e+01, -2.92261161e+01,  5.91495140e+00,  8.60193446e+01,\n",
       "        4.95564054e+01, -2.18961371e+02,  1.76306793e+02, -9.73561720e+01,\n",
       "        4.16400150e+02, -2.64225858e+02,  1.45331896e+02, -6.54131804e+01,\n",
       "        2.43097244e+01,  1.25625666e+02,  3.99081017e+01, -8.22824856e+01,\n",
       "        2.17953062e+02,  9.21470093e+01,  2.93691243e+02,  8.35906170e+01,\n",
       "       -9.58401666e+01,  1.75587524e+02, -1.35912401e+02,  2.03177595e+02,\n",
       "       -1.72031337e+02,  2.10724255e+02, -2.58516528e+02, -5.93320131e+01,\n",
       "        2.88157653e+02, -1.57070239e+02,  3.12952110e+02,  1.69002405e+02,\n",
       "        1.42354376e+02,  6.80960498e+01,  6.65602817e+01,  2.74734191e+02,\n",
       "       -1.44546710e+02, -2.33357333e+02, -1.06707292e+02, -1.04189672e+02,\n",
       "       -1.33397402e+02, -1.37251502e+02,  1.75872240e+02, -1.34064793e+02,\n",
       "       -4.94847230e+02, -1.74153252e+02, -1.80348491e+01,  2.34950097e+01,\n",
       "        2.76718444e+02,  1.30671011e+02,  4.72652462e+01,  1.27844586e+02,\n",
       "        9.60987333e+01, -5.25989678e+01,  5.00756646e+01, -5.34237145e+01,\n",
       "        9.10545201e+01, -1.66484510e+01, -5.01379141e+01,  3.86541604e+01,\n",
       "       -1.77184954e+02,  1.80834026e+02,  1.55951050e+02,  2.41621456e+01,\n",
       "       -7.13652643e+01, -2.37989550e+02,  1.92221401e+02,  1.27313679e+02,\n",
       "       -6.83241448e+01,  2.80490472e+02,  1.60452556e+02,  3.91926771e+00,\n",
       "       -1.03586968e+02, -1.56919292e+00, -1.82016315e+02, -3.50676095e+02,\n",
       "        1.20456814e+02, -2.62653032e+02,  4.04767712e+02,  1.31460896e+02,\n",
       "        1.20948485e+02,  2.67833163e+02,  9.67077527e+01,  7.45622127e+01,\n",
       "        7.68281386e+01,  2.07734161e+02, -3.35809110e+02,  1.85437763e+02,\n",
       "        1.31388627e+02, -8.12711546e+01, -1.15283063e+02, -1.01135107e+02,\n",
       "       -1.41306280e+02, -2.49877313e+02, -5.63492240e+01,  9.35681387e+01,\n",
       "        2.57448506e+02,  1.86188097e+02, -2.04264632e+02, -7.38695465e+01,\n",
       "       -7.98472616e+01,  1.25276410e+02, -1.66145484e+00,  9.08627599e+01,\n",
       "       -5.98416942e+01,  1.17410671e+02,  5.36649139e+01, -2.23544950e+00,\n",
       "       -1.56779096e+02,  1.72870550e+02,  1.25984604e+02, -3.78793904e+02,\n",
       "       -1.06100677e+02, -9.90811464e+01,  9.84869490e+01,  2.70145173e+02,\n",
       "       -1.35097251e+01,  2.36674150e+02,  8.74617308e+00,  1.92662549e+00,\n",
       "       -3.19370601e+01,  1.18351776e+01, -1.33358008e+02, -1.76959207e+02,\n",
       "       -1.08347972e+02, -2.47486350e+02, -3.15462727e+02,  1.68823831e+01,\n",
       "        6.23506605e+01,  1.31902581e+02,  5.34485232e+00, -4.04803209e+00,\n",
       "        2.00587481e+02, -5.54848565e+00,  3.35311017e+01, -3.21534364e+02,\n",
       "        1.33637463e+02,  1.36286550e+01,  2.27442849e+02,  1.01112137e+02])"
      ]
     },
     "execution_count": 3,
     "metadata": {},
     "output_type": "execute_result"
    }
   ],
   "source": [
    "y"
   ]
  },
  {
   "cell_type": "code",
   "execution_count": 4,
   "id": "ff485a6f-316b-4261-83b0-52b84f435e28",
   "metadata": {},
   "outputs": [],
   "source": [
    "X_train , X_test , y_train , y_test = train_test_split(X ,y, test_size=0.2,random_state=1)"
   ]
  },
  {
   "cell_type": "code",
   "execution_count": 5,
   "id": "8072e1cb-bce2-4482-887d-6c47628d5f5d",
   "metadata": {},
   "outputs": [
    {
     "data": {
      "text/plain": [
       "((800, 10), (200, 10))"
      ]
     },
     "execution_count": 5,
     "metadata": {},
     "output_type": "execute_result"
    }
   ],
   "source": [
    "X_train.shape,X_test.shape"
   ]
  },
  {
   "cell_type": "code",
   "execution_count": 6,
   "id": "64b3ece6-5b71-4289-ad23-f7a64f83a561",
   "metadata": {},
   "outputs": [],
   "source": [
    "from sklearn.linear_model import LinearRegression\n",
    "from sklearn.tree import DecisionTreeRegressor\n",
    "from sklearn.svm import SVR"
   ]
  },
  {
   "cell_type": "code",
   "execution_count": 8,
   "id": "0fecb380-fe32-44b3-b8c9-7415b0e7ad83",
   "metadata": {},
   "outputs": [],
   "source": [
    "lr = LinearRegression()\n",
    "dtr = DecisionTreeRegressor()\n",
    "svr = SVR(kernel=\"linear\")"
   ]
  },
  {
   "cell_type": "code",
   "execution_count": 13,
   "id": "718b6d17-0f1a-4693-80f1-32a6548ded43",
   "metadata": {},
   "outputs": [],
   "source": [
    "from sklearn.ensemble import VotingRegressor\n",
    "ensemble_regression  =VotingRegressor(estimators=[(\"Multiple Linear Regression\",lr) , (\"DecisionTreeRegressor\",dtr) , (\"Support Vector Regression \",svr)])"
   ]
  },
  {
   "cell_type": "code",
   "execution_count": 14,
   "id": "c6f58534-1849-492f-a120-b7ac2fc2a891",
   "metadata": {},
   "outputs": [
    {
     "data": {
      "text/html": [
       "<style>#sk-container-id-3 {color: black;background-color: white;}#sk-container-id-3 pre{padding: 0;}#sk-container-id-3 div.sk-toggleable {background-color: white;}#sk-container-id-3 label.sk-toggleable__label {cursor: pointer;display: block;width: 100%;margin-bottom: 0;padding: 0.3em;box-sizing: border-box;text-align: center;}#sk-container-id-3 label.sk-toggleable__label-arrow:before {content: \"▸\";float: left;margin-right: 0.25em;color: #696969;}#sk-container-id-3 label.sk-toggleable__label-arrow:hover:before {color: black;}#sk-container-id-3 div.sk-estimator:hover label.sk-toggleable__label-arrow:before {color: black;}#sk-container-id-3 div.sk-toggleable__content {max-height: 0;max-width: 0;overflow: hidden;text-align: left;background-color: #f0f8ff;}#sk-container-id-3 div.sk-toggleable__content pre {margin: 0.2em;color: black;border-radius: 0.25em;background-color: #f0f8ff;}#sk-container-id-3 input.sk-toggleable__control:checked~div.sk-toggleable__content {max-height: 200px;max-width: 100%;overflow: auto;}#sk-container-id-3 input.sk-toggleable__control:checked~label.sk-toggleable__label-arrow:before {content: \"▾\";}#sk-container-id-3 div.sk-estimator input.sk-toggleable__control:checked~label.sk-toggleable__label {background-color: #d4ebff;}#sk-container-id-3 div.sk-label input.sk-toggleable__control:checked~label.sk-toggleable__label {background-color: #d4ebff;}#sk-container-id-3 input.sk-hidden--visually {border: 0;clip: rect(1px 1px 1px 1px);clip: rect(1px, 1px, 1px, 1px);height: 1px;margin: -1px;overflow: hidden;padding: 0;position: absolute;width: 1px;}#sk-container-id-3 div.sk-estimator {font-family: monospace;background-color: #f0f8ff;border: 1px dotted black;border-radius: 0.25em;box-sizing: border-box;margin-bottom: 0.5em;}#sk-container-id-3 div.sk-estimator:hover {background-color: #d4ebff;}#sk-container-id-3 div.sk-parallel-item::after {content: \"\";width: 100%;border-bottom: 1px solid gray;flex-grow: 1;}#sk-container-id-3 div.sk-label:hover label.sk-toggleable__label {background-color: #d4ebff;}#sk-container-id-3 div.sk-serial::before {content: \"\";position: absolute;border-left: 1px solid gray;box-sizing: border-box;top: 0;bottom: 0;left: 50%;z-index: 0;}#sk-container-id-3 div.sk-serial {display: flex;flex-direction: column;align-items: center;background-color: white;padding-right: 0.2em;padding-left: 0.2em;position: relative;}#sk-container-id-3 div.sk-item {position: relative;z-index: 1;}#sk-container-id-3 div.sk-parallel {display: flex;align-items: stretch;justify-content: center;background-color: white;position: relative;}#sk-container-id-3 div.sk-item::before, #sk-container-id-3 div.sk-parallel-item::before {content: \"\";position: absolute;border-left: 1px solid gray;box-sizing: border-box;top: 0;bottom: 0;left: 50%;z-index: -1;}#sk-container-id-3 div.sk-parallel-item {display: flex;flex-direction: column;z-index: 1;position: relative;background-color: white;}#sk-container-id-3 div.sk-parallel-item:first-child::after {align-self: flex-end;width: 50%;}#sk-container-id-3 div.sk-parallel-item:last-child::after {align-self: flex-start;width: 50%;}#sk-container-id-3 div.sk-parallel-item:only-child::after {width: 0;}#sk-container-id-3 div.sk-dashed-wrapped {border: 1px dashed gray;margin: 0 0.4em 0.5em 0.4em;box-sizing: border-box;padding-bottom: 0.4em;background-color: white;}#sk-container-id-3 div.sk-label label {font-family: monospace;font-weight: bold;display: inline-block;line-height: 1.2em;}#sk-container-id-3 div.sk-label-container {text-align: center;}#sk-container-id-3 div.sk-container {/* jupyter's `normalize.less` sets `[hidden] { display: none; }` but bootstrap.min.css set `[hidden] { display: none !important; }` so we also need the `!important` here to be able to override the default hidden behavior on the sphinx rendered scikit-learn.org. See: https://github.com/scikit-learn/scikit-learn/issues/21755 */display: inline-block !important;position: relative;}#sk-container-id-3 div.sk-text-repr-fallback {display: none;}</style><div id=\"sk-container-id-3\" class=\"sk-top-container\"><div class=\"sk-text-repr-fallback\"><pre>VotingRegressor(estimators=[(&#x27;Multiple Linear Regression&#x27;, LinearRegression()),\n",
       "                            (&#x27;DecisionTreeRegressor&#x27;, DecisionTreeRegressor()),\n",
       "                            (&#x27;Support Vector Regression &#x27;,\n",
       "                             SVR(kernel=&#x27;linear&#x27;))])</pre><b>In a Jupyter environment, please rerun this cell to show the HTML representation or trust the notebook. <br />On GitHub, the HTML representation is unable to render, please try loading this page with nbviewer.org.</b></div><div class=\"sk-container\" hidden><div class=\"sk-item sk-dashed-wrapped\"><div class=\"sk-label-container\"><div class=\"sk-label sk-toggleable\"><input class=\"sk-toggleable__control sk-hidden--visually\" id=\"sk-estimator-id-9\" type=\"checkbox\" ><label for=\"sk-estimator-id-9\" class=\"sk-toggleable__label sk-toggleable__label-arrow\">VotingRegressor</label><div class=\"sk-toggleable__content\"><pre>VotingRegressor(estimators=[(&#x27;Multiple Linear Regression&#x27;, LinearRegression()),\n",
       "                            (&#x27;DecisionTreeRegressor&#x27;, DecisionTreeRegressor()),\n",
       "                            (&#x27;Support Vector Regression &#x27;,\n",
       "                             SVR(kernel=&#x27;linear&#x27;))])</pre></div></div></div><div class=\"sk-parallel\"><div class=\"sk-parallel-item\"><div class=\"sk-item\"><div class=\"sk-label-container\"><div class=\"sk-label sk-toggleable\"><label>Multiple Linear Regression</label></div></div><div class=\"sk-serial\"><div class=\"sk-item\"><div class=\"sk-estimator sk-toggleable\"><input class=\"sk-toggleable__control sk-hidden--visually\" id=\"sk-estimator-id-10\" type=\"checkbox\" ><label for=\"sk-estimator-id-10\" class=\"sk-toggleable__label sk-toggleable__label-arrow\">LinearRegression</label><div class=\"sk-toggleable__content\"><pre>LinearRegression()</pre></div></div></div></div></div></div><div class=\"sk-parallel-item\"><div class=\"sk-item\"><div class=\"sk-label-container\"><div class=\"sk-label sk-toggleable\"><label>DecisionTreeRegressor</label></div></div><div class=\"sk-serial\"><div class=\"sk-item\"><div class=\"sk-estimator sk-toggleable\"><input class=\"sk-toggleable__control sk-hidden--visually\" id=\"sk-estimator-id-11\" type=\"checkbox\" ><label for=\"sk-estimator-id-11\" class=\"sk-toggleable__label sk-toggleable__label-arrow\">DecisionTreeRegressor</label><div class=\"sk-toggleable__content\"><pre>DecisionTreeRegressor()</pre></div></div></div></div></div></div><div class=\"sk-parallel-item\"><div class=\"sk-item\"><div class=\"sk-label-container\"><div class=\"sk-label sk-toggleable\"><label>Support Vector Regression </label></div></div><div class=\"sk-serial\"><div class=\"sk-item\"><div class=\"sk-estimator sk-toggleable\"><input class=\"sk-toggleable__control sk-hidden--visually\" id=\"sk-estimator-id-12\" type=\"checkbox\" ><label for=\"sk-estimator-id-12\" class=\"sk-toggleable__label sk-toggleable__label-arrow\">SVR</label><div class=\"sk-toggleable__content\"><pre>SVR(kernel=&#x27;linear&#x27;)</pre></div></div></div></div></div></div></div></div></div></div>"
      ],
      "text/plain": [
       "VotingRegressor(estimators=[('Multiple Linear Regression', LinearRegression()),\n",
       "                            ('DecisionTreeRegressor', DecisionTreeRegressor()),\n",
       "                            ('Support Vector Regression ',\n",
       "                             SVR(kernel='linear'))])"
      ]
     },
     "execution_count": 14,
     "metadata": {},
     "output_type": "execute_result"
    }
   ],
   "source": [
    "ensemble_regression"
   ]
  },
  {
   "cell_type": "code",
   "execution_count": 15,
   "id": "2ff8a4ad-17a7-4960-a49a-d1f7b278141f",
   "metadata": {},
   "outputs": [
    {
     "data": {
      "text/html": [
       "<style>#sk-container-id-4 {color: black;background-color: white;}#sk-container-id-4 pre{padding: 0;}#sk-container-id-4 div.sk-toggleable {background-color: white;}#sk-container-id-4 label.sk-toggleable__label {cursor: pointer;display: block;width: 100%;margin-bottom: 0;padding: 0.3em;box-sizing: border-box;text-align: center;}#sk-container-id-4 label.sk-toggleable__label-arrow:before {content: \"▸\";float: left;margin-right: 0.25em;color: #696969;}#sk-container-id-4 label.sk-toggleable__label-arrow:hover:before {color: black;}#sk-container-id-4 div.sk-estimator:hover label.sk-toggleable__label-arrow:before {color: black;}#sk-container-id-4 div.sk-toggleable__content {max-height: 0;max-width: 0;overflow: hidden;text-align: left;background-color: #f0f8ff;}#sk-container-id-4 div.sk-toggleable__content pre {margin: 0.2em;color: black;border-radius: 0.25em;background-color: #f0f8ff;}#sk-container-id-4 input.sk-toggleable__control:checked~div.sk-toggleable__content {max-height: 200px;max-width: 100%;overflow: auto;}#sk-container-id-4 input.sk-toggleable__control:checked~label.sk-toggleable__label-arrow:before {content: \"▾\";}#sk-container-id-4 div.sk-estimator input.sk-toggleable__control:checked~label.sk-toggleable__label {background-color: #d4ebff;}#sk-container-id-4 div.sk-label input.sk-toggleable__control:checked~label.sk-toggleable__label {background-color: #d4ebff;}#sk-container-id-4 input.sk-hidden--visually {border: 0;clip: rect(1px 1px 1px 1px);clip: rect(1px, 1px, 1px, 1px);height: 1px;margin: -1px;overflow: hidden;padding: 0;position: absolute;width: 1px;}#sk-container-id-4 div.sk-estimator {font-family: monospace;background-color: #f0f8ff;border: 1px dotted black;border-radius: 0.25em;box-sizing: border-box;margin-bottom: 0.5em;}#sk-container-id-4 div.sk-estimator:hover {background-color: #d4ebff;}#sk-container-id-4 div.sk-parallel-item::after {content: \"\";width: 100%;border-bottom: 1px solid gray;flex-grow: 1;}#sk-container-id-4 div.sk-label:hover label.sk-toggleable__label {background-color: #d4ebff;}#sk-container-id-4 div.sk-serial::before {content: \"\";position: absolute;border-left: 1px solid gray;box-sizing: border-box;top: 0;bottom: 0;left: 50%;z-index: 0;}#sk-container-id-4 div.sk-serial {display: flex;flex-direction: column;align-items: center;background-color: white;padding-right: 0.2em;padding-left: 0.2em;position: relative;}#sk-container-id-4 div.sk-item {position: relative;z-index: 1;}#sk-container-id-4 div.sk-parallel {display: flex;align-items: stretch;justify-content: center;background-color: white;position: relative;}#sk-container-id-4 div.sk-item::before, #sk-container-id-4 div.sk-parallel-item::before {content: \"\";position: absolute;border-left: 1px solid gray;box-sizing: border-box;top: 0;bottom: 0;left: 50%;z-index: -1;}#sk-container-id-4 div.sk-parallel-item {display: flex;flex-direction: column;z-index: 1;position: relative;background-color: white;}#sk-container-id-4 div.sk-parallel-item:first-child::after {align-self: flex-end;width: 50%;}#sk-container-id-4 div.sk-parallel-item:last-child::after {align-self: flex-start;width: 50%;}#sk-container-id-4 div.sk-parallel-item:only-child::after {width: 0;}#sk-container-id-4 div.sk-dashed-wrapped {border: 1px dashed gray;margin: 0 0.4em 0.5em 0.4em;box-sizing: border-box;padding-bottom: 0.4em;background-color: white;}#sk-container-id-4 div.sk-label label {font-family: monospace;font-weight: bold;display: inline-block;line-height: 1.2em;}#sk-container-id-4 div.sk-label-container {text-align: center;}#sk-container-id-4 div.sk-container {/* jupyter's `normalize.less` sets `[hidden] { display: none; }` but bootstrap.min.css set `[hidden] { display: none !important; }` so we also need the `!important` here to be able to override the default hidden behavior on the sphinx rendered scikit-learn.org. See: https://github.com/scikit-learn/scikit-learn/issues/21755 */display: inline-block !important;position: relative;}#sk-container-id-4 div.sk-text-repr-fallback {display: none;}</style><div id=\"sk-container-id-4\" class=\"sk-top-container\"><div class=\"sk-text-repr-fallback\"><pre>VotingRegressor(estimators=[(&#x27;Multiple Linear Regression&#x27;, LinearRegression()),\n",
       "                            (&#x27;DecisionTreeRegressor&#x27;, DecisionTreeRegressor()),\n",
       "                            (&#x27;Support Vector Regression &#x27;,\n",
       "                             SVR(kernel=&#x27;linear&#x27;))])</pre><b>In a Jupyter environment, please rerun this cell to show the HTML representation or trust the notebook. <br />On GitHub, the HTML representation is unable to render, please try loading this page with nbviewer.org.</b></div><div class=\"sk-container\" hidden><div class=\"sk-item sk-dashed-wrapped\"><div class=\"sk-label-container\"><div class=\"sk-label sk-toggleable\"><input class=\"sk-toggleable__control sk-hidden--visually\" id=\"sk-estimator-id-13\" type=\"checkbox\" ><label for=\"sk-estimator-id-13\" class=\"sk-toggleable__label sk-toggleable__label-arrow\">VotingRegressor</label><div class=\"sk-toggleable__content\"><pre>VotingRegressor(estimators=[(&#x27;Multiple Linear Regression&#x27;, LinearRegression()),\n",
       "                            (&#x27;DecisionTreeRegressor&#x27;, DecisionTreeRegressor()),\n",
       "                            (&#x27;Support Vector Regression &#x27;,\n",
       "                             SVR(kernel=&#x27;linear&#x27;))])</pre></div></div></div><div class=\"sk-parallel\"><div class=\"sk-parallel-item\"><div class=\"sk-item\"><div class=\"sk-label-container\"><div class=\"sk-label sk-toggleable\"><label>Multiple Linear Regression</label></div></div><div class=\"sk-serial\"><div class=\"sk-item\"><div class=\"sk-estimator sk-toggleable\"><input class=\"sk-toggleable__control sk-hidden--visually\" id=\"sk-estimator-id-14\" type=\"checkbox\" ><label for=\"sk-estimator-id-14\" class=\"sk-toggleable__label sk-toggleable__label-arrow\">LinearRegression</label><div class=\"sk-toggleable__content\"><pre>LinearRegression()</pre></div></div></div></div></div></div><div class=\"sk-parallel-item\"><div class=\"sk-item\"><div class=\"sk-label-container\"><div class=\"sk-label sk-toggleable\"><label>DecisionTreeRegressor</label></div></div><div class=\"sk-serial\"><div class=\"sk-item\"><div class=\"sk-estimator sk-toggleable\"><input class=\"sk-toggleable__control sk-hidden--visually\" id=\"sk-estimator-id-15\" type=\"checkbox\" ><label for=\"sk-estimator-id-15\" class=\"sk-toggleable__label sk-toggleable__label-arrow\">DecisionTreeRegressor</label><div class=\"sk-toggleable__content\"><pre>DecisionTreeRegressor()</pre></div></div></div></div></div></div><div class=\"sk-parallel-item\"><div class=\"sk-item\"><div class=\"sk-label-container\"><div class=\"sk-label sk-toggleable\"><label>Support Vector Regression </label></div></div><div class=\"sk-serial\"><div class=\"sk-item\"><div class=\"sk-estimator sk-toggleable\"><input class=\"sk-toggleable__control sk-hidden--visually\" id=\"sk-estimator-id-16\" type=\"checkbox\" ><label for=\"sk-estimator-id-16\" class=\"sk-toggleable__label sk-toggleable__label-arrow\">SVR</label><div class=\"sk-toggleable__content\"><pre>SVR(kernel=&#x27;linear&#x27;)</pre></div></div></div></div></div></div></div></div></div></div>"
      ],
      "text/plain": [
       "VotingRegressor(estimators=[('Multiple Linear Regression', LinearRegression()),\n",
       "                            ('DecisionTreeRegressor', DecisionTreeRegressor()),\n",
       "                            ('Support Vector Regression ',\n",
       "                             SVR(kernel='linear'))])"
      ]
     },
     "execution_count": 15,
     "metadata": {},
     "output_type": "execute_result"
    }
   ],
   "source": [
    "ensemble_regression.fit(X_train,y_train)"
   ]
  },
  {
   "cell_type": "code",
   "execution_count": 21,
   "id": "c6216547-b7d2-4c80-85ad-799e47c3d940",
   "metadata": {},
   "outputs": [
    {
     "data": {
      "text/plain": [
       "array([  59.91158544,   40.84457857, -165.4724235 ,  -62.03447258,\n",
       "        504.50112016,  313.0284345 ,   46.31822525,  -54.52450392,\n",
       "        -94.8648865 ,  -70.50882469, -101.56014412,   11.88158399,\n",
       "        -50.14067936, -143.26542553, -311.55125961, -145.45365535,\n",
       "       -288.00715565, -163.33857005,  -29.35579152, -187.5724345 ,\n",
       "        -44.38230655, -136.20598004,  302.11514742, -204.54359021,\n",
       "          4.43576336,  191.73203423,  237.17596557,   58.05584608,\n",
       "        -66.68161414,  109.32205511,   20.05618562,  245.5369679 ,\n",
       "        133.77866601,  273.59571139,  123.2212309 ,  103.05992915,\n",
       "         62.79038637, -384.31221047, -184.14777544,  -83.05983246,\n",
       "         -6.88778754,  -99.16742966,   62.48655026, -129.89131047,\n",
       "         82.36148825,    6.14477113,  182.64152303, -124.26323706,\n",
       "        162.76042005, -300.48967015,  225.48351948,  364.42615339,\n",
       "       -229.08421669,   77.88087229,  -41.05039087,  101.2045309 ,\n",
       "        184.32945339,   70.6830957 ,   39.56063747,   91.9798698 ,\n",
       "         56.47280585, -436.06225197,  411.92005627,  140.43515006,\n",
       "         21.65276553, -171.72289606,  -69.05480307,    1.97952709,\n",
       "        -83.13738116,  159.0645922 ,  447.9115578 ,   52.40909327,\n",
       "        -51.72879769,  -75.01820412,  155.47217983, -155.01440432,\n",
       "        -56.51956709,   40.50637788,   35.22842345,   12.38105099,\n",
       "        -94.99963411,  164.67863507, -113.86583718,   69.17335037,\n",
       "       -111.20437273,  181.396909  ,   31.24373989, -112.48844982,\n",
       "         19.69651588,  -89.94535947, -251.37325467, -227.28850722,\n",
       "        -20.62323543,  164.49617775,  141.88872106,   41.2603335 ,\n",
       "        336.09507979,  -93.84858945,  107.99483854, -118.67134357,\n",
       "       -128.9522666 ,  210.59622711,  117.66536467,  -15.39557902,\n",
       "       -269.15438771,  157.29645096,   -9.38435865,  -73.76592016,\n",
       "         40.59639487,   64.88496779, -171.55640292,  -56.10056941,\n",
       "       -152.87587564,  -29.22536335,  408.92375788,   19.02965072,\n",
       "       -156.22443377,   70.48644564, -204.61578138, -185.53048976,\n",
       "       -135.69949752,  187.19008655, -101.72605388,  185.4367171 ,\n",
       "       -183.31522965,  110.26389893, -373.66984192,  -93.80814062,\n",
       "        229.75507727, -145.08190691,   17.99796574,   84.02423216,\n",
       "         84.74001017, -335.67828836,  -34.75427426,   52.68945427,\n",
       "        102.74123257, -207.750476  ,   88.29617175,  120.72408397,\n",
       "         92.51864326,  199.12016869,  381.14752162,  187.59932135,\n",
       "       -103.81816147, -154.98750584,  177.13495992,   56.32574965,\n",
       "         71.22461477,  224.14407248,  281.10158258,  175.5762606 ,\n",
       "         -3.64320393,  -98.93874057,  -66.09183522,  182.06690797,\n",
       "         41.20268277,   66.47744011, -120.87046938, -343.95638964,\n",
       "        322.81468373,  -34.98231037, -352.81037322,  -82.21791223,\n",
       "        -71.92127983, -140.26812153,  -25.67716711,  -24.91112911,\n",
       "       -189.67472953,  115.12022541, -209.05001755,  -11.56991966,\n",
       "       -127.45156215,   21.95974812,  -76.62711626, -115.41136942,\n",
       "        -89.53583317,  111.2873945 ,  -33.34044559,  -44.6732423 ,\n",
       "         -3.45906731,  290.82517927,  176.25720709,   10.00506631,\n",
       "         15.10292064, -173.98394469,   29.16125192,  -28.91584622,\n",
       "        202.08741778, -161.00682179,  248.22667478,   38.87300985,\n",
       "        148.6292996 ,    7.60930181,   41.81339612,   56.59831025,\n",
       "        102.31489244,  321.1953478 , -173.69292604,  -98.29960271])"
      ]
     },
     "execution_count": 21,
     "metadata": {},
     "output_type": "execute_result"
    }
   ],
   "source": [
    " ensemble_regression.predict(X_test)"
   ]
  },
  {
   "cell_type": "code",
   "execution_count": 22,
   "id": "e27de539-880e-4267-b9d4-c6e20b08db75",
   "metadata": {},
   "outputs": [],
   "source": [
    "# Now guys It was just introduction , It was just basic Custom ensebles \n",
    "\n",
    "# But In Industry >> You don't do  this ways\n",
    "\n",
    "# how will do that so see the next code In file number >>>>29\n",
    "\n",
    "\n",
    "\n"
   ]
  },
  {
   "cell_type": "code",
   "execution_count": null,
   "id": "7a45fc93-cf31-4d78-8118-7866410cd180",
   "metadata": {},
   "outputs": [],
   "source": []
  }
 ],
 "metadata": {
  "kernelspec": {
   "display_name": "Python 3 (ipykernel)",
   "language": "python",
   "name": "python3"
  },
  "language_info": {
   "codemirror_mode": {
    "name": "ipython",
    "version": 3
   },
   "file_extension": ".py",
   "mimetype": "text/x-python",
   "name": "python",
   "nbconvert_exporter": "python",
   "pygments_lexer": "ipython3",
   "version": "3.11.7"
  }
 },
 "nbformat": 4,
 "nbformat_minor": 5
}
